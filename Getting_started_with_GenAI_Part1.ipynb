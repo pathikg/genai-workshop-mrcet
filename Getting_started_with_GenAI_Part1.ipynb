{
  "nbformat": 4,
  "nbformat_minor": 0,
  "metadata": {
    "colab": {
      "provenance": [],
      "toc_visible": true,
      "authorship_tag": "ABX9TyMhDwqxm/gGpszcU1KvW98E",
      "include_colab_link": true
    },
    "kernelspec": {
      "name": "python3",
      "display_name": "Python 3"
    },
    "language_info": {
      "name": "python"
    }
  },
  "cells": [
    {
      "cell_type": "markdown",
      "metadata": {
        "id": "view-in-github",
        "colab_type": "text"
      },
      "source": [
        "<a href=\"https://colab.research.google.com/github/pathikg/genai-workshop-mrcet/blob/main/Getting_started_with_GenAI_Part1.ipynb\" target=\"_parent\"><img src=\"https://colab.research.google.com/assets/colab-badge.svg\" alt=\"Open In Colab\"/></a>"
      ]
    },
    {
      "cell_type": "markdown",
      "source": [
        "# Getting started with GenAI - Part 1\n",
        "\n",
        "![hello](https://raw.githubusercontent.com/pathikg/genai-workshop-mrcet/main/media/hello-world.jpeg)\n",
        "\n",
        "\n",
        "\n",
        "---\n",
        "\n",
        "\n",
        "Welcome to the Python Revision module!\n",
        "\n",
        "In this notebook, we will quickly go over the basics of Python and explore some advanced concepts.  \n",
        "Follow along and execute the cells to see the output.\n",
        "\n",
        "\n",
        "## Table of Contents\n",
        "1. Introduction to Python\n",
        "2. Basic Python Concepts\n",
        "3. Advanced Python Concepts\n",
        "4. Hands-on Exercises\n",
        "\n"
      ],
      "metadata": {
        "id": "cPE_wA6GVmHx"
      }
    },
    {
      "cell_type": "markdown",
      "source": [
        "# Introduction to Python\n",
        "\n",
        "![python snake meme]()\n",
        "\n",
        "## Why Python for GenAI?\n",
        "\n",
        "Python is the language of choice for many AI applications because,\n",
        "- **Ease of Learning and Use**: Python's syntax is straightforward and easy to learn, making it accessible for beginners and experts alike.\n",
        "- **Extensive Libraries and Frameworks**: Python boasts a rich ecosystem of libraries and frameworks, such as TensorFlow, PyTorch, HuggingFace Transformers, and more, which are essential for developing AI models.\n",
        "- **Community Support**: Python has a large and active community, which means you can easily find resources, tutorials, and support for any problem you encounter.\n",
        "- **Integration Capabilities**: Python can easily integrate with other languages and tools, making it a versatile choice for a wide range of applications.\n",
        "- **Productivity and Speed**: Python allows for rapid development and iteration, which is crucial in the fast-paced field of AI and GenAI.\n",
        "\n",
        "In the context of Generative AI (GenAI), Python's powerful libraries and tools enable developers to create advanced models for natural language processing (NLP), image generation, and more, making it an indispensable tool for anyone looking to explore this exciting field.\n",
        "\n",
        "Let's dive into some basic and advanced Python concepts to get you started!"
      ],
      "metadata": {
        "id": "MMXZodcyb56Y"
      }
    },
    {
      "cell_type": "markdown",
      "source": [
        "## Variables, Data Types and Basic Operators"
      ],
      "metadata": {
        "id": "3BRSfnL6dSiQ"
      }
    },
    {
      "cell_type": "markdown",
      "source": [
        "### Variables and Data Types"
      ],
      "metadata": {
        "id": "Ne6HjQy0d-ah"
      }
    },
    {
      "cell_type": "code",
      "execution_count": null,
      "metadata": {
        "colab": {
          "base_uri": "https://localhost:8080/"
        },
        "id": "FhV54xzGRZ0f",
        "outputId": "54b91175-bef2-4597-db0c-f76251a9d1dc"
      },
      "outputs": [
        {
          "output_type": "stream",
          "name": "stdout",
          "text": [
            "x: 10, Type: <class 'int'>\n",
            "y: 3.14, Type: <class 'float'>\n",
            "name: Alice, Type: <class 'str'>\n",
            "is_student: True, Type: <class 'bool'>\n"
          ]
        }
      ],
      "source": [
        "x = 10\n",
        "y = 3.14\n",
        "name = \"Alice\"\n",
        "is_student = True\n",
        "\n",
        "print(f\"x: {x}, Type: {type(x)}\")\n",
        "print(f\"y: {y}, Type: {type(y)}\")\n",
        "print(f\"name: {name}, Type: {type(name)}\")\n",
        "print(f\"is_student: {is_student}, Type: {type(is_student)}\")"
      ]
    },
    {
      "cell_type": "code",
      "source": [
        "a = [1, 2, 3, 4, 5, 6]\n",
        "b = [\"chocolate\", \"berry\", \"mobile\"]\n",
        "c = {\n",
        "    \"name\": \"Alice\",\n",
        "    \"age\": 25\n",
        "}\n",
        "d = (1, 2, 3)\n",
        "e = {1, 2, 3}\n",
        "\n",
        "print(f\"a: {a}, Type: {type(a)}\")\n",
        "print(f\"b: {b}, Type: {type(b)}\")\n",
        "print(f\"c: {c}, Type: {type(c)}\")\n",
        "print(f\"d: {d}, Type: {type(d)}\")\n",
        "print(f\"e: {e}, Type: {type(e)}\")"
      ],
      "metadata": {
        "colab": {
          "base_uri": "https://localhost:8080/"
        },
        "id": "ck5MsKKdeN31",
        "outputId": "82e99188-0fae-4e52-fc44-17f4f3ef01e3"
      },
      "execution_count": null,
      "outputs": [
        {
          "output_type": "stream",
          "name": "stdout",
          "text": [
            "a: [1, 2, 3, 4, 5, 6], Type: <class 'list'>\n",
            "b: ['chocolate', 'berry', 'mobile'], Type: <class 'list'>\n",
            "c: {'name': 'Alice', 'age': 25}, Type: <class 'dict'>\n",
            "d: (1, 2, 3), Type: <class 'tuple'>\n",
            "e: {1, 2, 3}, Type: <class 'set'>\n"
          ]
        }
      ]
    },
    {
      "cell_type": "markdown",
      "source": [
        "#### List"
      ],
      "metadata": {
        "id": "RT5QFGHG9DwS"
      }
    },
    {
      "cell_type": "code",
      "source": [
        "a = [1, 2, 3, 4, 5, 6]"
      ],
      "metadata": {
        "id": "QnlJo7ZS9S9v"
      },
      "execution_count": null,
      "outputs": []
    },
    {
      "cell_type": "code",
      "source": [
        "a[1]"
      ],
      "metadata": {
        "colab": {
          "base_uri": "https://localhost:8080/"
        },
        "id": "GE0Rwdp59DbG",
        "outputId": "a7d5af1f-d4e5-465b-cdbb-ead4786aaef4"
      },
      "execution_count": null,
      "outputs": [
        {
          "output_type": "execute_result",
          "data": {
            "text/plain": [
              "2"
            ]
          },
          "metadata": {},
          "execution_count": 6
        }
      ]
    },
    {
      "cell_type": "code",
      "source": [
        "a[2:4]"
      ],
      "metadata": {
        "colab": {
          "base_uri": "https://localhost:8080/"
        },
        "id": "NTEWYxk39ITL",
        "outputId": "641f4d12-55b8-4add-e465-ef283229eb3d"
      },
      "execution_count": null,
      "outputs": [
        {
          "output_type": "execute_result",
          "data": {
            "text/plain": [
              "[3, 4]"
            ]
          },
          "metadata": {},
          "execution_count": 8
        }
      ]
    },
    {
      "cell_type": "code",
      "source": [
        "a[-1]"
      ],
      "metadata": {
        "colab": {
          "base_uri": "https://localhost:8080/"
        },
        "id": "HkV7XiMG9MFG",
        "outputId": "c2ac2016-6252-4a29-8794-18c9b4c3116b"
      },
      "execution_count": null,
      "outputs": [
        {
          "output_type": "execute_result",
          "data": {
            "text/plain": [
              "6"
            ]
          },
          "metadata": {},
          "execution_count": 9
        }
      ]
    },
    {
      "cell_type": "code",
      "source": [
        "a.append(7)\n",
        "print(a)"
      ],
      "metadata": {
        "colab": {
          "base_uri": "https://localhost:8080/"
        },
        "id": "5pNn1r5gFN_a",
        "outputId": "e6975e38-5412-44cd-e10d-43e5f0e8d968"
      },
      "execution_count": null,
      "outputs": [
        {
          "output_type": "stream",
          "name": "stdout",
          "text": [
            "[1, 2, 3, 4, 5, 6, 7]\n"
          ]
        }
      ]
    },
    {
      "cell_type": "code",
      "source": [
        "a.pop(-1)\n",
        "print(a)"
      ],
      "metadata": {
        "colab": {
          "base_uri": "https://localhost:8080/"
        },
        "id": "1j_ZvIuzFQVH",
        "outputId": "a730710c-9126-4907-b2f3-b99d3bf353e6"
      },
      "execution_count": null,
      "outputs": [
        {
          "output_type": "stream",
          "name": "stdout",
          "text": [
            "[1, 2, 3, 4, 5, 6]\n"
          ]
        }
      ]
    },
    {
      "cell_type": "markdown",
      "source": [
        "#### Dictionary"
      ],
      "metadata": {
        "id": "DsaJeU-C9Owa"
      }
    },
    {
      "cell_type": "code",
      "source": [
        "c = {'name': 'Alice', 'age': 25}"
      ],
      "metadata": {
        "id": "O249k4iQ9Ync"
      },
      "execution_count": null,
      "outputs": []
    },
    {
      "cell_type": "code",
      "source": [
        "c[\"name\"]"
      ],
      "metadata": {
        "colab": {
          "base_uri": "https://localhost:8080/",
          "height": 35
        },
        "id": "cbrUSKpS9QNr",
        "outputId": "02baedf9-c7b4-4f41-f3ac-6248ee54257a"
      },
      "execution_count": null,
      "outputs": [
        {
          "output_type": "execute_result",
          "data": {
            "text/plain": [
              "'Alice'"
            ],
            "application/vnd.google.colaboratory.intrinsic+json": {
              "type": "string"
            }
          },
          "metadata": {},
          "execution_count": 15
        }
      ]
    },
    {
      "cell_type": "code",
      "source": [
        "c[\"height\"]"
      ],
      "metadata": {
        "colab": {
          "base_uri": "https://localhost:8080/",
          "height": 144
        },
        "id": "7zQv0rIs9ban",
        "outputId": "66bdc13a-7f56-4d2b-8205-5bd9c58f0c89"
      },
      "execution_count": null,
      "outputs": [
        {
          "output_type": "error",
          "ename": "KeyError",
          "evalue": "'height'",
          "traceback": [
            "\u001b[0;31m---------------------------------------------------------------------------\u001b[0m",
            "\u001b[0;31mKeyError\u001b[0m                                  Traceback (most recent call last)",
            "\u001b[0;32m<ipython-input-16-256eaf69fa7e>\u001b[0m in \u001b[0;36m<cell line: 1>\u001b[0;34m()\u001b[0m\n\u001b[0;32m----> 1\u001b[0;31m \u001b[0mc\u001b[0m\u001b[0;34m[\u001b[0m\u001b[0;34m\"height\"\u001b[0m\u001b[0;34m]\u001b[0m\u001b[0;34m\u001b[0m\u001b[0;34m\u001b[0m\u001b[0m\n\u001b[0m",
            "\u001b[0;31mKeyError\u001b[0m: 'height'"
          ]
        }
      ]
    },
    {
      "cell_type": "code",
      "source": [
        "c.get(\"height\", 0)"
      ],
      "metadata": {
        "colab": {
          "base_uri": "https://localhost:8080/"
        },
        "id": "Az5il9T19fA2",
        "outputId": "984679ee-7839-485d-e9c8-616616d3a0e1"
      },
      "execution_count": null,
      "outputs": [
        {
          "output_type": "execute_result",
          "data": {
            "text/plain": [
              "0"
            ]
          },
          "metadata": {},
          "execution_count": 17
        }
      ]
    },
    {
      "cell_type": "code",
      "source": [
        "c[\"height\"] = 170"
      ],
      "metadata": {
        "id": "s7Mpj44j9lOP"
      },
      "execution_count": null,
      "outputs": []
    },
    {
      "cell_type": "code",
      "source": [
        "c"
      ],
      "metadata": {
        "colab": {
          "base_uri": "https://localhost:8080/"
        },
        "id": "tqfPMg589ozp",
        "outputId": "9944407f-f875-44fc-89cb-000758fec08b"
      },
      "execution_count": null,
      "outputs": [
        {
          "output_type": "execute_result",
          "data": {
            "text/plain": [
              "{'name': 'Alice', 'age': 25, 'height': 170}"
            ]
          },
          "metadata": {},
          "execution_count": 19
        }
      ]
    },
    {
      "cell_type": "markdown",
      "source": [
        "### Basic Operators"
      ],
      "metadata": {
        "id": "L8stcI7jeBpj"
      }
    },
    {
      "cell_type": "code",
      "source": [
        "a = 5\n",
        "b = 2\n",
        "\n",
        "print(f\"Addition: {a + b}\")\n",
        "print(f\"Subtraction: {a - b}\")\n",
        "print(f\"Multiplication: {a * b}\")\n",
        "print(f\"Division: {a / b}\")\n",
        "print(f\"Modulus: {a % b}\")\n",
        "print(f\"Exponentiation: {a ** b}\")"
      ],
      "metadata": {
        "colab": {
          "base_uri": "https://localhost:8080/"
        },
        "id": "_ncDU-E7dYng",
        "outputId": "f0c9bd51-2f08-4cef-c272-cf55f2e723bf"
      },
      "execution_count": null,
      "outputs": [
        {
          "output_type": "stream",
          "name": "stdout",
          "text": [
            "Addition: 7\n",
            "Subtraction: 3\n",
            "Multiplication: 10\n",
            "Division: 2.5\n",
            "Modulus: 1\n",
            "Exponentiation: 25\n"
          ]
        }
      ]
    },
    {
      "cell_type": "markdown",
      "source": [
        "## Control Structures: if-else, loops (for, while)"
      ],
      "metadata": {
        "id": "s61gXDA5dvh6"
      }
    },
    {
      "cell_type": "markdown",
      "source": [
        "### If-else Statements"
      ],
      "metadata": {
        "id": "7-j9EBcveDvo"
      }
    },
    {
      "cell_type": "code",
      "source": [
        "num = 10\n",
        "if num > 0:\n",
        "    print(\"Positive number\")\n",
        "elif num == 0:\n",
        "    print(\"Zero\")\n",
        "else:\n",
        "    print(\"Negative number\")\n",
        "\n",
        "\n",
        "\n",
        "# While Loop\n",
        "count = 0\n",
        "while count < 5:\n",
        "    print(f\"Count: {count}\")\n",
        "    count += 1\n"
      ],
      "metadata": {
        "colab": {
          "base_uri": "https://localhost:8080/"
        },
        "id": "1C3O0ScCdZJK",
        "outputId": "bcfbfffd-2e78-4578-e985-e0e4558686ad"
      },
      "execution_count": null,
      "outputs": [
        {
          "output_type": "stream",
          "name": "stdout",
          "text": [
            "Positive number\n",
            "Iteration 0\n",
            "Iteration 1\n",
            "Iteration 2\n",
            "Iteration 3\n",
            "Iteration 4\n",
            "Count: 0\n",
            "Count: 1\n",
            "Count: 2\n",
            "Count: 3\n",
            "Count: 4\n"
          ]
        }
      ]
    },
    {
      "cell_type": "markdown",
      "source": [
        "### For Loop"
      ],
      "metadata": {
        "id": "L0PaZm_-eJbf"
      }
    },
    {
      "cell_type": "code",
      "source": [
        "for i in range(5):\n",
        "    print(f\"Iteration {i}\")"
      ],
      "metadata": {
        "colab": {
          "base_uri": "https://localhost:8080/"
        },
        "id": "B9ULd8pud3x-",
        "outputId": "2aed078c-dbf9-4963-9673-7dac24b89122"
      },
      "execution_count": null,
      "outputs": [
        {
          "output_type": "stream",
          "name": "stdout",
          "text": [
            "Iteration 0\n",
            "Iteration 1\n",
            "Iteration 2\n",
            "Iteration 3\n",
            "Iteration 4\n"
          ]
        }
      ]
    },
    {
      "cell_type": "code",
      "source": [
        "for i in range(3,5):\n",
        "    print(f\"Iteration {i}\")"
      ],
      "metadata": {
        "colab": {
          "base_uri": "https://localhost:8080/"
        },
        "id": "bWwu6hreBcDr",
        "outputId": "7f366142-bae0-4c2f-d27d-697495beb5bb"
      },
      "execution_count": null,
      "outputs": [
        {
          "output_type": "stream",
          "name": "stdout",
          "text": [
            "Iteration 3\n",
            "Iteration 4\n"
          ]
        }
      ]
    },
    {
      "cell_type": "code",
      "source": [
        "a"
      ],
      "metadata": {
        "colab": {
          "base_uri": "https://localhost:8080/"
        },
        "id": "Cbw_3NMKfHOV",
        "outputId": "16d26d6b-c379-4d15-cfa1-b0f1b345074b"
      },
      "execution_count": null,
      "outputs": [
        {
          "output_type": "execute_result",
          "data": {
            "text/plain": [
              "[1, 2, 3, 4, 5, 6]"
            ]
          },
          "metadata": {},
          "execution_count": 35
        }
      ]
    },
    {
      "cell_type": "code",
      "source": [
        "for element in a:\n",
        "    print(element)"
      ],
      "metadata": {
        "colab": {
          "base_uri": "https://localhost:8080/"
        },
        "id": "EO_R_NPJfBI_",
        "outputId": "e8bddeb9-d05b-4240-8f7e-9b8988626d13"
      },
      "execution_count": null,
      "outputs": [
        {
          "output_type": "stream",
          "name": "stdout",
          "text": [
            "1\n",
            "2\n",
            "3\n",
            "4\n",
            "5\n",
            "6\n"
          ]
        }
      ]
    },
    {
      "cell_type": "markdown",
      "source": [
        "### While loop"
      ],
      "metadata": {
        "id": "eWksNugJe7CZ"
      }
    },
    {
      "cell_type": "code",
      "source": [
        "count = 0\n",
        "while count < 5:\n",
        "    print(f\"Count: {count}\")\n",
        "    count += 1"
      ],
      "metadata": {
        "id": "UbVgpQgYeMoy"
      },
      "execution_count": null,
      "outputs": []
    },
    {
      "cell_type": "markdown",
      "source": [
        "## Functions\n",
        "\n"
      ],
      "metadata": {
        "id": "bQzy7rvSfNkN"
      }
    },
    {
      "cell_type": "code",
      "source": [
        "def greet(name):\n",
        "    return f\"Hello, {name}!\"\n",
        "\n",
        "print(greet(\"Alice\"))"
      ],
      "metadata": {
        "colab": {
          "base_uri": "https://localhost:8080/"
        },
        "id": "kRzDZOJOfPf0",
        "outputId": "02f47e09-8f33-447a-96e7-d8cdb0f06d5a"
      },
      "execution_count": null,
      "outputs": [
        {
          "output_type": "stream",
          "name": "stdout",
          "text": [
            "Hello, Alice!\n"
          ]
        }
      ]
    },
    {
      "cell_type": "code",
      "source": [
        "def add(a, b):\n",
        "    return a + b\n",
        "\n",
        "print(add(2, 3))"
      ],
      "metadata": {
        "colab": {
          "base_uri": "https://localhost:8080/"
        },
        "id": "ht_yhcQVfPyt",
        "outputId": "388cbffe-d6d5-492e-fe0c-27a04cf70947"
      },
      "execution_count": null,
      "outputs": [
        {
          "output_type": "stream",
          "name": "stdout",
          "text": [
            "5\n"
          ]
        }
      ]
    },
    {
      "cell_type": "markdown",
      "source": [
        "## Lambda functions"
      ],
      "metadata": {
        "id": "YK4r-NSk90Ri"
      }
    },
    {
      "cell_type": "code",
      "source": [
        "increment = lambda x: x + 1"
      ],
      "metadata": {
        "id": "uG2uHA7992Ng"
      },
      "execution_count": null,
      "outputs": []
    },
    {
      "cell_type": "code",
      "source": [
        "increment(5)"
      ],
      "metadata": {
        "colab": {
          "base_uri": "https://localhost:8080/"
        },
        "id": "bN0srm7r971G",
        "outputId": "9d4daf4d-5813-41d8-e440-a846afc9be9e"
      },
      "execution_count": null,
      "outputs": [
        {
          "output_type": "execute_result",
          "data": {
            "text/plain": [
              "6"
            ]
          },
          "metadata": {},
          "execution_count": 21
        }
      ]
    },
    {
      "cell_type": "code",
      "source": [
        "expression = lambda x,y : x*y+x+y+1/y"
      ],
      "metadata": {
        "id": "I7_AH8p09-q3"
      },
      "execution_count": null,
      "outputs": []
    },
    {
      "cell_type": "code",
      "source": [
        "expression(2,3)"
      ],
      "metadata": {
        "colab": {
          "base_uri": "https://localhost:8080/"
        },
        "id": "mFLQMUi8-EmU",
        "outputId": "39d4772e-ad93-4bff-84d4-a82276e24723"
      },
      "execution_count": null,
      "outputs": [
        {
          "output_type": "execute_result",
          "data": {
            "text/plain": [
              "11.333333333333334"
            ]
          },
          "metadata": {},
          "execution_count": 23
        }
      ]
    },
    {
      "cell_type": "markdown",
      "source": [
        "## Modules"
      ],
      "metadata": {
        "id": "st5nXwpJfYkM"
      }
    },
    {
      "cell_type": "code",
      "source": [
        "import math\n",
        "\n",
        "print(f\"Pi: {math.pi}\")\n",
        "print(f\"Square root of 16: {math.sqrt(16)}\")"
      ],
      "metadata": {
        "colab": {
          "base_uri": "https://localhost:8080/"
        },
        "id": "pjHQYR4bfUHN",
        "outputId": "065dc326-8eb8-4d42-ac93-9de4b84e9fe9"
      },
      "execution_count": null,
      "outputs": [
        {
          "output_type": "stream",
          "name": "stdout",
          "text": [
            "Pi: 3.141592653589793\n",
            "Square root of 16: 4.0\n"
          ]
        }
      ]
    },
    {
      "cell_type": "code",
      "source": [
        "!pip install numpy"
      ],
      "metadata": {
        "colab": {
          "base_uri": "https://localhost:8080/"
        },
        "id": "k_SOi29EfWeW",
        "outputId": "49db1cd9-59b8-4562-bb89-46b984df55f3"
      },
      "execution_count": null,
      "outputs": [
        {
          "output_type": "stream",
          "name": "stdout",
          "text": [
            "Requirement already satisfied: numpy in /usr/local/lib/python3.10/dist-packages (1.25.2)\n"
          ]
        }
      ]
    },
    {
      "cell_type": "code",
      "source": [
        "import numpy as np\n",
        "array = np.array(a)\n",
        "print(type(array))"
      ],
      "metadata": {
        "colab": {
          "base_uri": "https://localhost:8080/"
        },
        "id": "Feslb4iPfeiI",
        "outputId": "895766ca-186f-43d6-c49f-cc43d28a17f5"
      },
      "execution_count": null,
      "outputs": [
        {
          "output_type": "stream",
          "name": "stdout",
          "text": [
            "<class 'numpy.ndarray'>\n"
          ]
        }
      ]
    },
    {
      "cell_type": "markdown",
      "source": [
        "## Reading files"
      ],
      "metadata": {
        "id": "CwaPIAxY-L9b"
      }
    },
    {
      "cell_type": "code",
      "source": [
        "!touch hello.txt\n",
        "!echo \"Hello, World!\" > hello.txt"
      ],
      "metadata": {
        "id": "AO_aPb4zflKl"
      },
      "execution_count": null,
      "outputs": []
    },
    {
      "cell_type": "code",
      "source": [
        "with open(\"hello.txt\", \"r\") as file:\n",
        "    content = file.read()\n",
        "    print(content)"
      ],
      "metadata": {
        "colab": {
          "base_uri": "https://localhost:8080/"
        },
        "id": "NJCbWi_H-SPZ",
        "outputId": "0640a0b2-704f-4149-9c8a-eea96e20e423"
      },
      "execution_count": null,
      "outputs": [
        {
          "output_type": "stream",
          "name": "stdout",
          "text": [
            "Hello, World!\n",
            "\n"
          ]
        }
      ]
    },
    {
      "cell_type": "code",
      "source": [
        "# Open the file in write mode\n",
        "with open(\"hello.txt\", \"w\") as file:\n",
        "    # Write the content to the file\n",
        "    file.write(\"This is a new hello word.\")"
      ],
      "metadata": {
        "id": "3TkYhtV9-YWV"
      },
      "execution_count": null,
      "outputs": []
    },
    {
      "cell_type": "code",
      "source": [
        "!cat hello.txt"
      ],
      "metadata": {
        "colab": {
          "base_uri": "https://localhost:8080/"
        },
        "id": "OaSwpa5U-fNe",
        "outputId": "04b296ad-2449-4f39-b63b-30dff003d996"
      },
      "execution_count": null,
      "outputs": [
        {
          "output_type": "stream",
          "name": "stdout",
          "text": [
            "This is a new hello word."
          ]
        }
      ]
    },
    {
      "cell_type": "markdown",
      "source": [
        "## Error Handeling"
      ],
      "metadata": {
        "id": "93L0gIfc-omf"
      }
    },
    {
      "cell_type": "code",
      "source": [
        "try:\n",
        "    result = 10 / 0\n",
        "except ZeroDivisionError:\n",
        "    print(\"Error: Division by zero is not allowed.\")\n",
        "finally:\n",
        "    print(\"Execution completed.\")\n"
      ],
      "metadata": {
        "colab": {
          "base_uri": "https://localhost:8080/"
        },
        "id": "tDwLkfbL-jSU",
        "outputId": "08dd38dd-2935-4f29-be71-f102d1fd3ca4"
      },
      "execution_count": null,
      "outputs": [
        {
          "output_type": "stream",
          "name": "stdout",
          "text": [
            "Error: Division by zero is not allowed.\n",
            "Execution completed.\n"
          ]
        }
      ]
    },
    {
      "cell_type": "code",
      "source": [
        "try:\n",
        "    with open(\"nonexistent.txt\", \"r\") as file:\n",
        "        content = file.read()\n",
        "except Exception as e:\n",
        "    print(f\"Error {e}\")"
      ],
      "metadata": {
        "colab": {
          "base_uri": "https://localhost:8080/"
        },
        "id": "3GCpQR-8-uh6",
        "outputId": "ac381085-e364-460b-f037-0459ef98d3a1"
      },
      "execution_count": null,
      "outputs": [
        {
          "output_type": "stream",
          "name": "stdout",
          "text": [
            "Error [Errno 2] No such file or directory: 'nonexistent.txt'\n"
          ]
        }
      ]
    },
    {
      "cell_type": "markdown",
      "source": [
        "QUIZ TIME!!!\n",
        "\n",
        "![panda-quizz-image]()\n",
        "\n",
        "https://forms.gle/mQRC9Em6Do3fUf8CA"
      ],
      "metadata": {
        "id": "Z_1061p1E5Y5"
      }
    }
  ]
}