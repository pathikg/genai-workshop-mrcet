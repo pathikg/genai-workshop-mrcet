{
  "nbformat": 4,
  "nbformat_minor": 0,
  "metadata": {
    "colab": {
      "provenance": [],
      "toc_visible": true,
      "authorship_tag": "ABX9TyOdtB4Nj3mMvAOAjvcyP57s",
      "include_colab_link": true
    },
    "kernelspec": {
      "name": "python3",
      "display_name": "Python 3"
    },
    "language_info": {
      "name": "python"
    }
  },
  "cells": [
    {
      "cell_type": "markdown",
      "metadata": {
        "id": "view-in-github",
        "colab_type": "text"
      },
      "source": [
        "<a href=\"https://colab.research.google.com/github/pathikg/genai-workshop-mrcet/blob/main/Getting_started_with_GenAI_Part1.ipynb\" target=\"_parent\"><img src=\"https://colab.research.google.com/assets/colab-badge.svg\" alt=\"Open In Colab\"/></a>"
      ]
    },
    {
      "cell_type": "markdown",
      "source": [
        "# Getting started with GenAI - Part 1\n",
        "\n",
        "![hello](https://raw.githubusercontent.com/pathikg/genai-workshop-mrcet/main/media/hello-world.jpeg)\n",
        "\n",
        "\n",
        "\n",
        "---\n",
        "\n",
        "\n",
        "Welcome to the Python module!\n",
        "\n",
        "In this notebook, we will quickly go over the basics of Python and explore some advanced concepts.  \n",
        "Follow along and execute the cells to see the output.\n",
        "\n",
        "\n",
        "## Table of Contents\n",
        "1. Introduction to Python\n",
        "2. Basic Python Concepts\n",
        "3. Advanced Python Concepts\n",
        "4. Hands-on Exercises\n",
        "\n"
      ],
      "metadata": {
        "id": "cPE_wA6GVmHx"
      }
    },
    {
      "cell_type": "markdown",
      "source": [
        "# Introduction to Python\n",
        "\n",
        "![python snake meme]()\n",
        "\n",
        "## Why Python for GenAI?\n",
        "\n",
        "Python is the language of choice for many AI applications because,\n",
        "- **Ease of Learning and Use**: Python's syntax is straightforward and easy to learn, making it accessible for beginners and experts alike.\n",
        "- **Extensive Libraries and Frameworks**: Python boasts a rich ecosystem of libraries and frameworks, such as TensorFlow, PyTorch, HuggingFace Transformers, and more, which are essential for developing AI models.\n",
        "- **Community Support**: Python has a large and active community, which means you can easily find resources, tutorials, and support for any problem you encounter.\n",
        "- **Integration Capabilities**: Python can easily integrate with other languages and tools, making it a versatile choice for a wide range of applications.\n",
        "- **Productivity and Speed**: Python allows for rapid development and iteration, which is crucial in the fast-paced field of AI and GenAI.\n",
        "\n",
        "In the context of Generative AI (GenAI), Python's powerful libraries and tools enable developers to create advanced models for natural language processing (NLP), image generation, and more, making it an indispensable tool for anyone looking to explore this exciting field.\n",
        "\n",
        "Let's dive into some basic and advanced Python concepts to get you started!"
      ],
      "metadata": {
        "id": "MMXZodcyb56Y"
      }
    },
    {
      "cell_type": "markdown",
      "source": [
        "# Basic Python Concepts"
      ],
      "metadata": {
        "id": "BKtwEMG6hUAv"
      }
    },
    {
      "cell_type": "markdown",
      "source": [
        "## Variables\n",
        "\n",
        "In Python, variables are used to store data values. They are created when you assign a value to a name, and they do not need explicit declaration of their data type.\n"
      ],
      "metadata": {
        "id": "Ne6HjQy0d-ah"
      }
    },
    {
      "cell_type": "code",
      "execution_count": 6,
      "metadata": {
        "id": "FhV54xzGRZ0f"
      },
      "outputs": [],
      "source": [
        "x = 10\n",
        "y = 3.14\n",
        "name = \"Alice\"\n",
        "is_student = True"
      ]
    },
    {
      "cell_type": "markdown",
      "source": [
        "## Data Types\n",
        "\n",
        "\n",
        "### Data Types in Python\n",
        "\n",
        "Python supports several built-in data types that are fundamental for storing and manipulating data:\n",
        "\n",
        "1. **Numeric Types:**\n",
        "   - **int**: Integer numbers, e.g., 10, -3, 1000.\n",
        "   - **float**: Floating-point numbers, e.g., 3.14, -0.001, 2.0.\n",
        "\n",
        "2. **Sequence Types:**\n",
        "   - **str**: Strings of characters, e.g., \"hello\", 'Python'.\n",
        "   - **list**: Ordered collection of items, mutable, e.g., [1, 2, 3], ['a', 'b', 'c'].\n",
        "   - **tuple**: Ordered collection of items, immutable, e.g., (1, 2, 3), ('a', 'b', 'c').\n",
        "\n",
        "3. **Boolean Type:**\n",
        "   - **bool**: Represents truth values, True or False.\n",
        "\n",
        "4. **Mapping Type:**\n",
        "   - **dict**: Collection of key-value pairs, e.g., {'name': 'Alice', 'age': 30}.\n",
        "\n",
        "5. **Set Types:**\n",
        "   - **set**: Unordered collection of unique items, e.g., {1, 2, 3}, {'a', 'b', 'c'}.\n",
        "   - **frozenset**: Immutable version of set, e.g., frozenset({1, 2, 3}).\n",
        "\n",
        "6. **None Type:**\n",
        "   - **NoneType**: Represents the absence of a value, similar to null in other languages.\n",
        "\n",
        "\n"
      ],
      "metadata": {
        "id": "dCBnPawzi194"
      }
    },
    {
      "cell_type": "code",
      "source": [
        "# Numeric types\n",
        "num_int = 10\n",
        "num_float = 3.14\n",
        "\n",
        "# Sequence types\n",
        "my_string = \"Hello\"\n",
        "my_list = [1, 2, 3]\n",
        "my_tuple = (4, 5, 6)\n",
        "\n",
        "# Boolean type\n",
        "is_active = True\n",
        "\n",
        "# Mapping type\n",
        "person = {'name': 'Alice', 'age': 30}\n",
        "\n",
        "# Set types\n",
        "my_set = {1, 2, 3}\n",
        "my_frozenset = frozenset({4, 5, 6})\n",
        "\n",
        "# None type\n",
        "value = None"
      ],
      "metadata": {
        "id": "ck5MsKKdeN31"
      },
      "execution_count": 3,
      "outputs": []
    },
    {
      "cell_type": "code",
      "source": [
        "print(type(num_int))"
      ],
      "metadata": {
        "colab": {
          "base_uri": "https://localhost:8080/"
        },
        "id": "u7n0Dq0nkCHn",
        "outputId": "6a985889-e2db-41bb-ba53-03f435caa53b"
      },
      "execution_count": 4,
      "outputs": [
        {
          "output_type": "stream",
          "name": "stdout",
          "text": [
            "<class 'int'>\n"
          ]
        }
      ]
    },
    {
      "cell_type": "code",
      "source": [
        "print(type(person))"
      ],
      "metadata": {
        "colab": {
          "base_uri": "https://localhost:8080/"
        },
        "id": "ZewDTKQNkFpY",
        "outputId": "4f1d2d08-2ba4-4142-a9fb-7a3e8a8e5489"
      },
      "execution_count": 5,
      "outputs": [
        {
          "output_type": "stream",
          "name": "stdout",
          "text": [
            "<class 'dict'>\n"
          ]
        }
      ]
    },
    {
      "cell_type": "markdown",
      "source": [
        "## Type Conversion (Casting)\n",
        "\n",
        "Python allows converting one data type to another using type casting functions:\n",
        "- `int()`, `float()`, `str()`, `list()`, `tuple()`, `dict()`, `set()` for explicit type conversion."
      ],
      "metadata": {
        "id": "bXy6uKeojDuV"
      }
    },
    {
      "cell_type": "code",
      "source": [
        "str_number = \"2\""
      ],
      "metadata": {
        "id": "0Ga__y5kjDVE"
      },
      "execution_count": 8,
      "outputs": []
    },
    {
      "cell_type": "code",
      "source": [
        "print(type(str_number))"
      ],
      "metadata": {
        "colab": {
          "base_uri": "https://localhost:8080/"
        },
        "id": "7LqaLWEZko5Z",
        "outputId": "ff764b50-a1a3-4aac-975c-84ffe1b1d1e4"
      },
      "execution_count": 13,
      "outputs": [
        {
          "output_type": "stream",
          "name": "stdout",
          "text": [
            "<class 'str'>\n"
          ]
        }
      ]
    },
    {
      "cell_type": "code",
      "source": [
        "int_number = int(str_number)"
      ],
      "metadata": {
        "id": "ibiH8fI5kiq0"
      },
      "execution_count": 9,
      "outputs": []
    },
    {
      "cell_type": "code",
      "source": [
        "print(type(int_number))"
      ],
      "metadata": {
        "colab": {
          "base_uri": "https://localhost:8080/"
        },
        "id": "qz9vh_vtkorF",
        "outputId": "bde54206-ca3d-4ce3-dd8d-1c2598100f88"
      },
      "execution_count": 12,
      "outputs": [
        {
          "output_type": "stream",
          "name": "stdout",
          "text": [
            "<class 'int'>\n"
          ]
        }
      ]
    },
    {
      "cell_type": "code",
      "source": [
        "print(int(6.9))"
      ],
      "metadata": {
        "colab": {
          "base_uri": "https://localhost:8080/"
        },
        "id": "QG6FOjfJlQ88",
        "outputId": "a16560ba-3ec4-4d1f-afd3-f6227ec88824"
      },
      "execution_count": 19,
      "outputs": [
        {
          "output_type": "stream",
          "name": "stdout",
          "text": [
            "6\n"
          ]
        }
      ]
    },
    {
      "cell_type": "code",
      "source": [
        "print(float(\"6.9\"))"
      ],
      "metadata": {
        "colab": {
          "base_uri": "https://localhost:8080/"
        },
        "id": "GnGzVH85lM6m",
        "outputId": "c96c9fc3-1700-498a-bfe6-a646042c4b5a"
      },
      "execution_count": 18,
      "outputs": [
        {
          "output_type": "stream",
          "name": "stdout",
          "text": [
            "6.9\n"
          ]
        }
      ]
    },
    {
      "cell_type": "code",
      "source": [
        "# guess the output ?\n",
        "str_number = \"6.9\"\n",
        "print(int(str_number))"
      ],
      "metadata": {
        "id": "SgZsEU7dlI7o"
      },
      "execution_count": null,
      "outputs": []
    },
    {
      "cell_type": "code",
      "source": [
        "my_tuple"
      ],
      "metadata": {
        "colab": {
          "base_uri": "https://localhost:8080/"
        },
        "id": "dy9By5YvlK5x",
        "outputId": "19d11641-9b5a-41a9-d097-cbe92db090a5"
      },
      "execution_count": 25,
      "outputs": [
        {
          "output_type": "execute_result",
          "data": {
            "text/plain": [
              "(4, 5, 6)"
            ]
          },
          "metadata": {},
          "execution_count": 25
        }
      ]
    },
    {
      "cell_type": "code",
      "source": [
        "list(my_tuple)"
      ],
      "metadata": {
        "colab": {
          "base_uri": "https://localhost:8080/"
        },
        "id": "TLSrZ8t7mU5t",
        "outputId": "bb937863-50e9-4173-ea89-a37d5785c5f4"
      },
      "execution_count": 26,
      "outputs": [
        {
          "output_type": "execute_result",
          "data": {
            "text/plain": [
              "[4, 5, 6]"
            ]
          },
          "metadata": {},
          "execution_count": 26
        }
      ]
    },
    {
      "cell_type": "markdown",
      "source": [
        "> notice i'm printing without `print()` ;)"
      ],
      "metadata": {
        "id": "rs3rv8eUmYz1"
      }
    },
    {
      "cell_type": "markdown",
      "source": [
        "## Operators"
      ],
      "metadata": {
        "id": "7A32pVOiotTV"
      }
    },
    {
      "cell_type": "markdown",
      "source": [
        "### Arithmetic Operators\n",
        "Arithmetic operators are used to perform mathematical operations like a calculator\n",
        "\n",
        "Python supports the following arithmetic operators:\n",
        "\n",
        "| Operator   | Purpose           | Example     | Result    |\n",
        "|------------|-------------------|-------------|-----------|\n",
        "| `+`        | Addition          | `2 + 3`     | `5`       |\n",
        "| `-`        | Subtraction       | `3 - 2`     | `1`       |\n",
        "| `*`        | Multiplication    | `8 * 12`    | `96`      |\n",
        "| `/`        | Division          | `100 / 7`   | `14.28..` |\n",
        "| `//`       | Floor Division    | `100 // 7`  | `14`      |    \n",
        "| `%`        | Modulus/Remainder | `100 % 7`   | `2`       |\n",
        "| `**`       | Exponent          | `5 ** 3`    | `125`     |\n",
        "\n",
        "\n",
        "Try solving some simple problems from this page:\n",
        "https://www.math-only-math.com/worksheet-on-word-problems-on-four-operations.html .\n",
        "\n"
      ],
      "metadata": {
        "id": "aucYsnGzmmwc"
      }
    },
    {
      "cell_type": "code",
      "source": [
        "x = 10\n",
        "y = 3\n",
        "\n",
        "addition = x + y       # Addition\n",
        "subtraction = x - y    # Subtraction\n",
        "multiplication = x * y # Multiplication\n",
        "division = x / y       # Division\n",
        "floor_division = x // y# Floor Division, quotient\n",
        "modulo = x % y         # Modulo, remainder\n",
        "exponentiation = x ** y# Exponentiation"
      ],
      "metadata": {
        "id": "JdZ47Fmvn9k4"
      },
      "execution_count": 29,
      "outputs": []
    },
    {
      "cell_type": "code",
      "source": [
        "addition"
      ],
      "metadata": {
        "colab": {
          "base_uri": "https://localhost:8080/"
        },
        "id": "j-4Da7V7oNt-",
        "outputId": "3bbfb019-f7ca-4f48-fac7-a33a29daa27c"
      },
      "execution_count": 30,
      "outputs": [
        {
          "output_type": "execute_result",
          "data": {
            "text/plain": [
              "13"
            ]
          },
          "metadata": {},
          "execution_count": 30
        }
      ]
    },
    {
      "cell_type": "code",
      "source": [
        "division"
      ],
      "metadata": {
        "colab": {
          "base_uri": "https://localhost:8080/"
        },
        "id": "wzTZhoHdoZns",
        "outputId": "68e84747-e3b0-418a-8d8a-754c871772af"
      },
      "execution_count": 34,
      "outputs": [
        {
          "output_type": "execute_result",
          "data": {
            "text/plain": [
              "3.3333333333333335"
            ]
          },
          "metadata": {},
          "execution_count": 34
        }
      ]
    },
    {
      "cell_type": "code",
      "source": [
        "floor_division"
      ],
      "metadata": {
        "colab": {
          "base_uri": "https://localhost:8080/"
        },
        "id": "9accbYGWoPYe",
        "outputId": "9fda1adb-fe8a-4a80-a3b6-d3db558b5312"
      },
      "execution_count": 32,
      "outputs": [
        {
          "output_type": "execute_result",
          "data": {
            "text/plain": [
              "3"
            ]
          },
          "metadata": {},
          "execution_count": 32
        }
      ]
    },
    {
      "cell_type": "code",
      "source": [
        "modulo"
      ],
      "metadata": {
        "colab": {
          "base_uri": "https://localhost:8080/"
        },
        "id": "nsdlGFzhoTFL",
        "outputId": "6effc3dc-c63d-4e80-947d-fcd8aae18661"
      },
      "execution_count": 35,
      "outputs": [
        {
          "output_type": "execute_result",
          "data": {
            "text/plain": [
              "1"
            ]
          },
          "metadata": {},
          "execution_count": 35
        }
      ]
    },
    {
      "cell_type": "markdown",
      "source": [
        "### Comparison Operators\n",
        "Comparison operators are used to compare values. They return boolean values such as `True` or `False`\n",
        "\n"
      ],
      "metadata": {
        "id": "HMmUBdvdnm4H"
      }
    },
    {
      "cell_type": "code",
      "source": [
        "x = 10\n",
        "y = 3\n",
        "\n",
        "equal = x == y      # Equal to\n",
        "not_equal = x != y  # Not equal to\n",
        "greater = x > y     # Greater than\n",
        "less = x < y        # Less than\n",
        "greater_equal = x >= y  # Greater than or equal to\n",
        "less_equal = x <= y     # Less than or equal to"
      ],
      "metadata": {
        "id": "GOzm19V5nZhr"
      },
      "execution_count": 28,
      "outputs": []
    },
    {
      "cell_type": "code",
      "source": [
        "equal"
      ],
      "metadata": {
        "colab": {
          "base_uri": "https://localhost:8080/"
        },
        "id": "yv2emq4vofmf",
        "outputId": "805d63d6-2d74-4aa2-c273-07d1fb111af6"
      },
      "execution_count": 36,
      "outputs": [
        {
          "output_type": "execute_result",
          "data": {
            "text/plain": [
              "False"
            ]
          },
          "metadata": {},
          "execution_count": 36
        }
      ]
    },
    {
      "cell_type": "code",
      "source": [
        "less"
      ],
      "metadata": {
        "colab": {
          "base_uri": "https://localhost:8080/"
        },
        "id": "g-CGVxdtog-b",
        "outputId": "b1a0a957-3308-4e5b-db2b-67ddb3a958de"
      },
      "execution_count": 37,
      "outputs": [
        {
          "output_type": "execute_result",
          "data": {
            "text/plain": [
              "False"
            ]
          },
          "metadata": {},
          "execution_count": 37
        }
      ]
    },
    {
      "cell_type": "code",
      "source": [
        "greater_equal"
      ],
      "metadata": {
        "colab": {
          "base_uri": "https://localhost:8080/"
        },
        "id": "oyw_mkzsohrC",
        "outputId": "219307eb-5a51-44ce-d338-d1f0927680ff"
      },
      "execution_count": 38,
      "outputs": [
        {
          "output_type": "execute_result",
          "data": {
            "text/plain": [
              "True"
            ]
          },
          "metadata": {},
          "execution_count": 38
        }
      ]
    },
    {
      "cell_type": "markdown",
      "source": [
        "### Logical Operators\n",
        "\n",
        "Logical operators are used to combine conditional statements.\n",
        "e.g. AND, OR, NOT"
      ],
      "metadata": {
        "id": "T9dv0ShVou5a"
      }
    },
    {
      "cell_type": "code",
      "source": [
        "x = True\n",
        "y = False\n",
        "\n",
        "and_op = x and y    # Logical AND\n",
        "or_op = x or y      # Logical OR\n",
        "not_op = not x      # Logical NOT"
      ],
      "metadata": {
        "id": "SCP-Dpn_oyCb"
      },
      "execution_count": 39,
      "outputs": []
    },
    {
      "cell_type": "code",
      "source": [
        "and_op, or_op, not_op"
      ],
      "metadata": {
        "colab": {
          "base_uri": "https://localhost:8080/"
        },
        "id": "HTmcnhapoz-r",
        "outputId": "5a7da09f-9743-4fbb-b5a6-8d4c2b918d28"
      },
      "execution_count": 42,
      "outputs": [
        {
          "output_type": "execute_result",
          "data": {
            "text/plain": [
              "(False, True, False)"
            ]
          },
          "metadata": {},
          "execution_count": 42
        }
      ]
    },
    {
      "cell_type": "code",
      "source": [
        "# Guess the output?\n",
        "x = 10\n",
        "y = 3\n",
        "\n",
        "op = x > 5 and y < 5\n",
        "print(op)"
      ],
      "metadata": {
        "id": "Ebl0AZ6ip7cL"
      },
      "execution_count": null,
      "outputs": []
    },
    {
      "cell_type": "code",
      "source": [
        "# Guess the output?\n",
        "x = -1\n",
        "y = 0\n",
        "\n",
        "op = (x == y) or not y\n",
        "print(op)"
      ],
      "metadata": {
        "id": "hOO757G8qCq7"
      },
      "execution_count": null,
      "outputs": []
    },
    {
      "cell_type": "markdown",
      "source": [
        "### Bitwise Operators\n",
        "Bitwise operators are used to perform bitwise calculations on integers."
      ],
      "metadata": {
        "id": "WPbIfG96qiMF"
      }
    },
    {
      "cell_type": "code",
      "source": [
        "x = 10   # 1010 in binary\n",
        "y = 4    # 0100 in binary\n",
        "\n",
        "bitwise_and = x & y    # Bitwise AND\n",
        "bitwise_or = x | y     # Bitwise OR\n",
        "bitwise_xor = x ^ y    # Bitwise XOR\n",
        "bitwise_not_x = ~x     # Bitwise NOT\n",
        "left_shift = x << 1    # Left shift\n",
        "right_shift = x >> 1   # Right shift"
      ],
      "metadata": {
        "id": "kIOMH-skqlli"
      },
      "execution_count": 50,
      "outputs": []
    },
    {
      "cell_type": "code",
      "source": [
        "bitwise_and"
      ],
      "metadata": {
        "colab": {
          "base_uri": "https://localhost:8080/"
        },
        "id": "Hqutx8wAqo9I",
        "outputId": "e66dcaac-c0f1-4bcd-a484-da8d0fb06c2f"
      },
      "execution_count": 51,
      "outputs": [
        {
          "output_type": "execute_result",
          "data": {
            "text/plain": [
              "0"
            ]
          },
          "metadata": {},
          "execution_count": 51
        }
      ]
    },
    {
      "cell_type": "code",
      "source": [
        "bitwise_or"
      ],
      "metadata": {
        "colab": {
          "base_uri": "https://localhost:8080/"
        },
        "id": "IQEGjxhnqssO",
        "outputId": "f1eec8ce-d26f-49d4-8bb6-259e987ea3e3"
      },
      "execution_count": 52,
      "outputs": [
        {
          "output_type": "execute_result",
          "data": {
            "text/plain": [
              "14"
            ]
          },
          "metadata": {},
          "execution_count": 52
        }
      ]
    },
    {
      "cell_type": "code",
      "source": [
        "right_shift"
      ],
      "metadata": {
        "colab": {
          "base_uri": "https://localhost:8080/"
        },
        "id": "ILu7UV0-q22h",
        "outputId": "a031e071-35be-4ccd-9a91-aae05d6a7a41"
      },
      "execution_count": 53,
      "outputs": [
        {
          "output_type": "execute_result",
          "data": {
            "text/plain": [
              "5"
            ]
          },
          "metadata": {},
          "execution_count": 53
        }
      ]
    },
    {
      "cell_type": "markdown",
      "source": [
        "### Assignment Operators\n",
        "Assignment operators are used to assign values to variables."
      ],
      "metadata": {
        "id": "FLc5OMMsrABy"
      }
    },
    {
      "cell_type": "code",
      "source": [
        "x = 10\n",
        "x += 5   # Equivalent to x = x + 5 ,equivalent to x++ in c/c++\n",
        "x -= 3   # Equivalent to x = x - 3\n",
        "x *= 2   # Equivalent to x = x * 2\n",
        "x /= 4   # Equivalent to x = x / 4\n",
        "x //= 3  # Equivalent to x = x // 3\n",
        "x %= 2   # Equivalent to x = x % 2\n",
        "x **= 3  # Equivalent to x = x ** 3"
      ],
      "metadata": {
        "id": "1S0sPY2DrDe2"
      },
      "execution_count": 54,
      "outputs": []
    },
    {
      "cell_type": "markdown",
      "source": [
        "### Membership Operators\n",
        "Membership operators are used to test if a sequence is presented in an object"
      ],
      "metadata": {
        "id": "L1GuxilVrNpX"
      }
    },
    {
      "cell_type": "code",
      "source": [
        "list = [1, 2, 3, 4, 5]\n",
        "\n",
        "in_op = 2 in list       # True\n",
        "not_in_op = 6 not in list # True"
      ],
      "metadata": {
        "id": "XLPuFzpHrFJW"
      },
      "execution_count": 55,
      "outputs": []
    },
    {
      "cell_type": "code",
      "source": [
        "in_op"
      ],
      "metadata": {
        "colab": {
          "base_uri": "https://localhost:8080/"
        },
        "id": "tEKUKoHcr4cr",
        "outputId": "6fe19c58-389a-4dd8-f087-9816fd363539"
      },
      "execution_count": 56,
      "outputs": [
        {
          "output_type": "execute_result",
          "data": {
            "text/plain": [
              "True"
            ]
          },
          "metadata": {},
          "execution_count": 56
        }
      ]
    },
    {
      "cell_type": "code",
      "source": [
        "not_in_op"
      ],
      "metadata": {
        "colab": {
          "base_uri": "https://localhost:8080/"
        },
        "id": "NeZZAeDAr5PL",
        "outputId": "e88e16be-c561-4f1a-fd3e-eaebca1671d9"
      },
      "execution_count": 57,
      "outputs": [
        {
          "output_type": "execute_result",
          "data": {
            "text/plain": [
              "True"
            ]
          },
          "metadata": {},
          "execution_count": 57
        }
      ]
    },
    {
      "cell_type": "markdown",
      "source": [
        "### Identity Operators\n",
        "Identity operators compare the memory locations of two objects."
      ],
      "metadata": {
        "id": "g0S3pjYIr7mN"
      }
    },
    {
      "cell_type": "code",
      "source": [
        "x = [1, 2, 3]\n",
        "y = [1, 2, 3]\n",
        "z = x\n",
        "\n",
        "is_op = x is z       # True, because z is the same object as x\n",
        "is_not_op = x is not y # True, because x is not the same object as y"
      ],
      "metadata": {
        "id": "iVutGN3Sr9e1"
      },
      "execution_count": 58,
      "outputs": []
    },
    {
      "cell_type": "code",
      "source": [
        "is_op"
      ],
      "metadata": {
        "colab": {
          "base_uri": "https://localhost:8080/"
        },
        "id": "Ry8vLYUnsAds",
        "outputId": "4009dcd4-125e-4048-e83c-d0a61aa04842"
      },
      "execution_count": 59,
      "outputs": [
        {
          "output_type": "execute_result",
          "data": {
            "text/plain": [
              "True"
            ]
          },
          "metadata": {},
          "execution_count": 59
        }
      ]
    },
    {
      "cell_type": "code",
      "source": [
        "is_not_op"
      ],
      "metadata": {
        "colab": {
          "base_uri": "https://localhost:8080/"
        },
        "id": "76wQplaXsBic",
        "outputId": "fa9dc893-955d-4adb-f8f8-2045933caeaa"
      },
      "execution_count": 60,
      "outputs": [
        {
          "output_type": "execute_result",
          "data": {
            "text/plain": [
              "True"
            ]
          },
          "metadata": {},
          "execution_count": 60
        }
      ]
    },
    {
      "cell_type": "markdown",
      "source": [
        "#### funny thing"
      ],
      "metadata": {
        "id": "odLLObPXsC4G"
      }
    },
    {
      "cell_type": "code",
      "source": [
        "x"
      ],
      "metadata": {
        "colab": {
          "base_uri": "https://localhost:8080/"
        },
        "id": "uDPFMhJDs4sr",
        "outputId": "a550c0e7-bee7-4031-9d40-526c73fc51dd"
      },
      "execution_count": 64,
      "outputs": [
        {
          "output_type": "execute_result",
          "data": {
            "text/plain": [
              "[1, 2, 3]"
            ]
          },
          "metadata": {},
          "execution_count": 64
        }
      ]
    },
    {
      "cell_type": "code",
      "source": [
        "z"
      ],
      "metadata": {
        "colab": {
          "base_uri": "https://localhost:8080/"
        },
        "id": "tLZghLXSsFur",
        "outputId": "08845685-8bc3-4be1-ad89-60db9931db89"
      },
      "execution_count": 63,
      "outputs": [
        {
          "output_type": "execute_result",
          "data": {
            "text/plain": [
              "[1, 2, 3]"
            ]
          },
          "metadata": {},
          "execution_count": 63
        }
      ]
    },
    {
      "cell_type": "code",
      "source": [
        "z[0] = 6"
      ],
      "metadata": {
        "id": "oqmBk8zSsNUG"
      },
      "execution_count": 66,
      "outputs": []
    },
    {
      "cell_type": "code",
      "source": [
        "z"
      ],
      "metadata": {
        "colab": {
          "base_uri": "https://localhost:8080/"
        },
        "id": "p3g9zycxtANW",
        "outputId": "5721df8e-4ff9-4512-cfff-818a189911b7"
      },
      "execution_count": 67,
      "outputs": [
        {
          "output_type": "execute_result",
          "data": {
            "text/plain": [
              "[6, 2, 3]"
            ]
          },
          "metadata": {},
          "execution_count": 67
        }
      ]
    },
    {
      "cell_type": "code",
      "source": [
        "x"
      ],
      "metadata": {
        "colab": {
          "base_uri": "https://localhost:8080/"
        },
        "id": "0ag1C5rvtBKV",
        "outputId": "2baa735a-b652-43c5-966d-07462eb8ce70"
      },
      "execution_count": 68,
      "outputs": [
        {
          "output_type": "execute_result",
          "data": {
            "text/plain": [
              "[6, 2, 3]"
            ]
          },
          "metadata": {},
          "execution_count": 68
        }
      ]
    },
    {
      "cell_type": "markdown",
      "source": [
        "Pass by Reference and Pass by Value in Python\n",
        "Python handles variables differently based on whether they are mutable or immutable:\n",
        "\n",
        "- **Mutable Objects**: Mutable objects like lists and dictionaries are **passed by reference**. When you assign a mutable object to another variable, you are actually pointing both variables to the same object in memory. Changes made through one variable will reflect in the other.\n",
        "\n",
        "- **Immutable Objects**: Immutable objects like integers, floats, strings, and tuples are **passed by value**. This means when you assign a variable to another, a copy of the object is made.\n",
        "\n",
        "\n",
        "Thus,  \n",
        "z = x assigns z to reference the same list as x in memory. Modifying z also modifies x because they both point to the same list object. This demonstrates pass by reference behavior in Python for mutable objects.\n",
        "\n",
        "\n",
        "\n"
      ],
      "metadata": {
        "id": "FUmruYiNtSNr"
      }
    },
    {
      "cell_type": "markdown",
      "source": [
        "## Control Flow in Python\n",
        "Control flow in Python allows you to alter the flow of program execution based on specified conditions or to repeat blocks of code.\n"
      ],
      "metadata": {
        "id": "lw60geVCug_y"
      }
    },
    {
      "cell_type": "markdown",
      "source": [
        "### Conditional Statements\n",
        "\n",
        "Conditional statements are used to make decisions in your code"
      ],
      "metadata": {
        "id": "YbZI-2tcuy5S"
      }
    },
    {
      "cell_type": "markdown",
      "source": [
        "#### If-else Statements"
      ],
      "metadata": {
        "id": "7-j9EBcveDvo"
      }
    },
    {
      "cell_type": "code",
      "source": [
        "num = 10\n",
        "if num > 0:\n",
        "    print(\"Positive number\")\n",
        "elif num == 0:\n",
        "    print(\"Zero\")\n",
        "else:\n",
        "    print(\"Negative number\")"
      ],
      "metadata": {
        "colab": {
          "base_uri": "https://localhost:8080/"
        },
        "id": "1C3O0ScCdZJK",
        "outputId": "fce14551-1ef0-4992-f4c0-0399d56d5cec"
      },
      "execution_count": 70,
      "outputs": [
        {
          "output_type": "stream",
          "name": "stdout",
          "text": [
            "Positive number\n"
          ]
        }
      ]
    },
    {
      "cell_type": "markdown",
      "source": [
        "#### nested if-else statements"
      ],
      "metadata": {
        "id": "oN1uGTKywoT7"
      }
    },
    {
      "cell_type": "code",
      "source": [
        "num = 10\n",
        "if num >= 0:\n",
        "    if num == 0:\n",
        "        print(\"Zero\")\n",
        "    else:\n",
        "        print(\"Positive number\")\n",
        "else:\n",
        "    print(\"Negative number\")"
      ],
      "metadata": {
        "colab": {
          "base_uri": "https://localhost:8080/"
        },
        "id": "ZgE1poXjwrKa",
        "outputId": "1c34f91c-c045-4401-a97a-6e1c605b1110"
      },
      "execution_count": 71,
      "outputs": [
        {
          "output_type": "stream",
          "name": "stdout",
          "text": [
            "Positive number\n"
          ]
        }
      ]
    },
    {
      "cell_type": "markdown",
      "source": [
        "### Loops\n",
        "Loops are used to iterate over a sequence or execute a block of code repeatedly"
      ],
      "metadata": {
        "id": "uxlksoWjxuN3"
      }
    },
    {
      "cell_type": "markdown",
      "source": [
        "#### For Loop"
      ],
      "metadata": {
        "id": "L0PaZm_-eJbf"
      }
    },
    {
      "cell_type": "code",
      "source": [
        "for i in range(5):\n",
        "    print(f\"Iteration {i}\")"
      ],
      "metadata": {
        "colab": {
          "base_uri": "https://localhost:8080/"
        },
        "id": "B9ULd8pud3x-",
        "outputId": "07ffd2d6-227f-48cd-93d0-ded4be37adc6"
      },
      "execution_count": 74,
      "outputs": [
        {
          "output_type": "stream",
          "name": "stdout",
          "text": [
            "Iteration 0\n",
            "Iteration 1\n",
            "Iteration 2\n",
            "Iteration 3\n",
            "Iteration 4\n"
          ]
        }
      ]
    },
    {
      "cell_type": "code",
      "source": [
        "for i in range(3,5):\n",
        "    print(f\"Iteration {i}\")"
      ],
      "metadata": {
        "colab": {
          "base_uri": "https://localhost:8080/"
        },
        "id": "bWwu6hreBcDr",
        "outputId": "97820f73-8da2-4797-cba9-c31796a3e289"
      },
      "execution_count": 75,
      "outputs": [
        {
          "output_type": "stream",
          "name": "stdout",
          "text": [
            "Iteration 3\n",
            "Iteration 4\n"
          ]
        }
      ]
    },
    {
      "cell_type": "code",
      "source": [
        "a = [1, 2, \"cherry\", 4 , 6.0]"
      ],
      "metadata": {
        "id": "Cbw_3NMKfHOV"
      },
      "execution_count": 78,
      "outputs": []
    },
    {
      "cell_type": "code",
      "source": [
        "for element in a:\n",
        "    print(element)"
      ],
      "metadata": {
        "colab": {
          "base_uri": "https://localhost:8080/"
        },
        "id": "EO_R_NPJfBI_",
        "outputId": "a7d1b975-3881-4dfc-8107-db53b106b91c"
      },
      "execution_count": 79,
      "outputs": [
        {
          "output_type": "stream",
          "name": "stdout",
          "text": [
            "1\n",
            "2\n",
            "cherry\n",
            "4\n",
            "6.0\n"
          ]
        }
      ]
    },
    {
      "cell_type": "markdown",
      "source": [
        "#### While loop"
      ],
      "metadata": {
        "id": "eWksNugJe7CZ"
      }
    },
    {
      "cell_type": "code",
      "source": [
        "count = 0\n",
        "while count < 5:\n",
        "    print(f\"Count: {count}\")\n",
        "    count += 1"
      ],
      "metadata": {
        "id": "UbVgpQgYeMoy",
        "colab": {
          "base_uri": "https://localhost:8080/"
        },
        "outputId": "c3059b7c-b8fb-43b6-be9a-cb8db556b36d"
      },
      "execution_count": 73,
      "outputs": [
        {
          "output_type": "stream",
          "name": "stdout",
          "text": [
            "Count: 0\n",
            "Count: 1\n",
            "Count: 2\n",
            "Count: 3\n",
            "Count: 4\n"
          ]
        }
      ]
    },
    {
      "cell_type": "code",
      "source": [
        "count = 10\n",
        "while count:\n",
        "    print(f\"Count: {count}\")\n",
        "    count -= 1"
      ],
      "metadata": {
        "colab": {
          "base_uri": "https://localhost:8080/"
        },
        "id": "SayfF1-kxyOo",
        "outputId": "258b2246-cf97-4340-b7bc-bd0104e6d730"
      },
      "execution_count": 72,
      "outputs": [
        {
          "output_type": "stream",
          "name": "stdout",
          "text": [
            "Count: 10\n",
            "Count: 9\n",
            "Count: 8\n",
            "Count: 7\n",
            "Count: 6\n",
            "Count: 5\n",
            "Count: 4\n",
            "Count: 3\n",
            "Count: 2\n",
            "Count: 1\n"
          ]
        }
      ]
    },
    {
      "cell_type": "markdown",
      "source": [
        "### Loop control statements\n",
        "\n",
        "- **break**: Terminates the loop.\n",
        "- **continue**: Skips the rest of the loop and continues with the next iteration.\n",
        "- **pass**: Placeholder that does nothing when executed, used when syntax requires a statement but you have nothing to write."
      ],
      "metadata": {
        "id": "mw3sPJHZyC0o"
      }
    },
    {
      "cell_type": "code",
      "source": [
        "for letter in 'Python':\n",
        "    if letter == 'h':\n",
        "        break\n",
        "    print('Current Letter :', letter)"
      ],
      "metadata": {
        "colab": {
          "base_uri": "https://localhost:8080/"
        },
        "id": "EE7K2EityNC0",
        "outputId": "5e4a4de8-26d8-4e3c-999a-96a9025f2906"
      },
      "execution_count": 80,
      "outputs": [
        {
          "output_type": "stream",
          "name": "stdout",
          "text": [
            "Current Letter : P\n",
            "Current Letter : y\n",
            "Current Letter : t\n"
          ]
        }
      ]
    },
    {
      "cell_type": "code",
      "source": [
        "for letter in 'Python':\n",
        "    if letter == 'o':\n",
        "        continue\n",
        "    print('Current Letter :', letter)\n"
      ],
      "metadata": {
        "colab": {
          "base_uri": "https://localhost:8080/"
        },
        "id": "fbVlRg4YyTfh",
        "outputId": "8e772baa-2c62-435f-a4dd-569b9df18243"
      },
      "execution_count": 82,
      "outputs": [
        {
          "output_type": "stream",
          "name": "stdout",
          "text": [
            "Current Letter : P\n",
            "Current Letter : y\n",
            "Current Letter : t\n",
            "Current Letter : h\n",
            "Current Letter : n\n"
          ]
        }
      ]
    },
    {
      "cell_type": "code",
      "source": [
        "if 1 == 1 :\n",
        "    print(\"ok\")\n",
        "    pass\n",
        "    print(\"pass\")"
      ],
      "metadata": {
        "colab": {
          "base_uri": "https://localhost:8080/"
        },
        "id": "evr5X7EjyfJq",
        "outputId": "96ba2291-a68b-4d63-b0f2-deee9252bd67"
      },
      "execution_count": 84,
      "outputs": [
        {
          "output_type": "stream",
          "name": "stdout",
          "text": [
            "ok\n",
            "pass\n"
          ]
        }
      ]
    },
    {
      "cell_type": "markdown",
      "source": [
        "## Input and Output Operations in Python\n"
      ],
      "metadata": {
        "id": "h_3oXoX_yuCO"
      }
    },
    {
      "cell_type": "markdown",
      "source": [
        "### Standard Input (stdin)\n",
        "\n",
        "Use input() function to prompt the user for input. It reads input as a string by default.\n"
      ],
      "metadata": {
        "id": "GIXNIRxDy0N0"
      }
    },
    {
      "cell_type": "code",
      "source": [
        "name = input(\"Enter your name: \")\n",
        "print(f\"Hello, {name}!\")"
      ],
      "metadata": {
        "colab": {
          "base_uri": "https://localhost:8080/"
        },
        "id": "_xtvjX6GywHl",
        "outputId": "1cfcb095-892a-4d23-df66-b03c7702f58d"
      },
      "execution_count": 86,
      "outputs": [
        {
          "output_type": "stream",
          "name": "stdout",
          "text": [
            "Enter your name: Pathik\n",
            "Hello, Pathik!\n"
          ]
        }
      ]
    },
    {
      "cell_type": "markdown",
      "source": [
        "### Standard Output (stdout)\n",
        "Use `print()` function to output data to the console.\n"
      ],
      "metadata": {
        "id": "UTRCXC19z0q4"
      }
    },
    {
      "cell_type": "code",
      "source": [
        "print(\"Good Afternoon!\")"
      ],
      "metadata": {
        "colab": {
          "base_uri": "https://localhost:8080/"
        },
        "id": "ohCne5EPywzG",
        "outputId": "8df00ce9-d003-4687-ac6b-374f73f9bf71"
      },
      "execution_count": 87,
      "outputs": [
        {
          "output_type": "stream",
          "name": "stdout",
          "text": [
            "Good Afternoon!\n"
          ]
        }
      ]
    },
    {
      "cell_type": "markdown",
      "source": [
        "### Files"
      ],
      "metadata": {
        "id": "Z5HbZ3YK0Odh"
      }
    },
    {
      "cell_type": "code",
      "source": [
        "!touch hello.txt\n",
        "!echo \"Hello, World!\" > hello.txt"
      ],
      "metadata": {
        "id": "AO_aPb4zflKl"
      },
      "execution_count": 94,
      "outputs": []
    },
    {
      "cell_type": "markdown",
      "source": [
        "#### Reading from a File:\n",
        "\n",
        "Use open() function to open a file and read() or readlines() methods to read its content."
      ],
      "metadata": {
        "id": "NhhVf5Pb1lVO"
      }
    },
    {
      "cell_type": "code",
      "source": [
        "with open(\"hello.txt\", \"r\") as file:\n",
        "    content = file.read()\n",
        "    print(content)"
      ],
      "metadata": {
        "colab": {
          "base_uri": "https://localhost:8080/"
        },
        "id": "NJCbWi_H-SPZ",
        "outputId": "abb2f66e-1f97-4de7-d681-92c4e0f40139"
      },
      "execution_count": 95,
      "outputs": [
        {
          "output_type": "stream",
          "name": "stdout",
          "text": [
            "Hello, World!\n",
            "\n"
          ]
        }
      ]
    },
    {
      "cell_type": "markdown",
      "source": [
        "#### Writing to a File:\n",
        "\n",
        "Use open() function with mode 'w' or 'a' to write or append to a file."
      ],
      "metadata": {
        "id": "Z1W16EPN1vR1"
      }
    },
    {
      "cell_type": "code",
      "source": [
        "# Open the file in write mode\n",
        "with open(\"hello.txt\", \"w\") as file:\n",
        "    # Write the content to the file\n",
        "    file.write(\"This is a new hello word.\")"
      ],
      "metadata": {
        "id": "3TkYhtV9-YWV"
      },
      "execution_count": 96,
      "outputs": []
    },
    {
      "cell_type": "code",
      "source": [
        "!cat hello.txt"
      ],
      "metadata": {
        "colab": {
          "base_uri": "https://localhost:8080/"
        },
        "id": "OaSwpa5U-fNe",
        "outputId": "b4e58abb-e151-43f7-dad3-4aa51032fb1b"
      },
      "execution_count": 97,
      "outputs": [
        {
          "output_type": "stream",
          "name": "stdout",
          "text": [
            "This is a new hello word."
          ]
        }
      ]
    },
    {
      "cell_type": "markdown",
      "source": [
        "## Data Structures\n",
        "\n",
        "Data structures in Python are used to store collections of data in an organized manner. Each type of data structure has its own properties and methods for accessing and manipulating the data stored within it."
      ],
      "metadata": {
        "id": "1V_oP8-TsGwU"
      }
    },
    {
      "cell_type": "markdown",
      "source": [
        "### List\n",
        "\n",
        "Lists are ordered collections of items. They are mutable, meaning their elements can be changed after creation.\n",
        "\n",
        "Common Methods:\n",
        "\n",
        "- append(item): Adds an item to the end of the list.\n",
        "- extend(iterable): Extends the list by appending elements from an iterable.\n",
        "- insert(index, item): Inserts an item at a specified index.\n",
        "- pop([index]): Removes and returns the item at the specified index (default is the last item).\n",
        "- remove(item): Removes the first occurrence of the specified item.\n",
        "- index(item): Returns the index of the first occurrence of the specified item.\n",
        "- count(item): Returns the number of occurrences of the specified item.\n",
        "- sort(): Sorts the list in ascending order.\n",
        "- reverse(): Reverses the elements of the list."
      ],
      "metadata": {
        "id": "RT5QFGHG9DwS"
      }
    },
    {
      "cell_type": "code",
      "source": [
        "a = [1, 2, 3, 4, 5, 6, 7]"
      ],
      "metadata": {
        "id": "QnlJo7ZS9S9v"
      },
      "execution_count": 121,
      "outputs": []
    },
    {
      "cell_type": "code",
      "source": [
        "index = 5\n",
        "a[0]"
      ],
      "metadata": {
        "colab": {
          "base_uri": "https://localhost:8080/"
        },
        "id": "NY74sgIc5YLF",
        "outputId": "41d1ddbc-4427-48c2-94de-a06aee331f62"
      },
      "execution_count": 122,
      "outputs": [
        {
          "output_type": "execute_result",
          "data": {
            "text/plain": [
              "1"
            ]
          },
          "metadata": {},
          "execution_count": 122
        }
      ]
    },
    {
      "cell_type": "code",
      "source": [
        "a[10]"
      ],
      "metadata": {
        "colab": {
          "base_uri": "https://localhost:8080/",
          "height": 144
        },
        "id": "v__HCyAh5bAT",
        "outputId": "e30e79c8-ec10-47e8-a1fa-2f99a2cd2227"
      },
      "execution_count": 123,
      "outputs": [
        {
          "output_type": "error",
          "ename": "IndexError",
          "evalue": "list index out of range",
          "traceback": [
            "\u001b[0;31m---------------------------------------------------------------------------\u001b[0m",
            "\u001b[0;31mIndexError\u001b[0m                                Traceback (most recent call last)",
            "\u001b[0;32m<ipython-input-123-4534c135ae9a>\u001b[0m in \u001b[0;36m<cell line: 1>\u001b[0;34m()\u001b[0m\n\u001b[0;32m----> 1\u001b[0;31m \u001b[0ma\u001b[0m\u001b[0;34m[\u001b[0m\u001b[0;36m10\u001b[0m\u001b[0;34m]\u001b[0m\u001b[0;34m\u001b[0m\u001b[0;34m\u001b[0m\u001b[0m\n\u001b[0m",
            "\u001b[0;31mIndexError\u001b[0m: list index out of range"
          ]
        }
      ]
    },
    {
      "cell_type": "code",
      "source": [
        "a[-1]"
      ],
      "metadata": {
        "colab": {
          "base_uri": "https://localhost:8080/"
        },
        "id": "kvAXBM975d84",
        "outputId": "b9a2bf20-5ded-4f79-8599-e102ce3a795d"
      },
      "execution_count": 124,
      "outputs": [
        {
          "output_type": "execute_result",
          "data": {
            "text/plain": [
              "7"
            ]
          },
          "metadata": {},
          "execution_count": 124
        }
      ]
    },
    {
      "cell_type": "markdown",
      "source": [
        "#### Slicing\n",
        "\n",
        "\n",
        "Slicing in Python allows you to extract a portion of a sequence (such as a string, list, tuple, or any iterable) by specifying a start index, stop index, and an optional step size. It provides a flexible way to access subsets of data without modifying the original sequence.\n",
        "\n",
        "Syntax:\n",
        "`sequence[start:stop:step]`\n",
        "\n",
        "- start: Starting index of the slice (inclusive). Defaults to 0 if not specified.\n",
        "- stop: Ending index of the slice (exclusive). Defaults to the end of the sequence if not specified.\n",
        "- step: Step size for slicing. Defaults to 1 if not specified. A negative step size means slicing in reverse."
      ],
      "metadata": {
        "id": "ScTawM822uLj"
      }
    },
    {
      "cell_type": "code",
      "source": [
        "a[0:3]"
      ],
      "metadata": {
        "colab": {
          "base_uri": "https://localhost:8080/"
        },
        "id": "HSdYMBX-3gGf",
        "outputId": "7b1dade2-7079-4ff2-a5f1-f4664c1a0337"
      },
      "execution_count": 107,
      "outputs": [
        {
          "output_type": "execute_result",
          "data": {
            "text/plain": [
              "[1, 2, 3]"
            ]
          },
          "metadata": {},
          "execution_count": 107
        }
      ]
    },
    {
      "cell_type": "code",
      "source": [
        "a[2:5:2]"
      ],
      "metadata": {
        "colab": {
          "base_uri": "https://localhost:8080/"
        },
        "id": "NTEWYxk39ITL",
        "outputId": "56041fc6-960d-4439-dc70-667fc2328de8"
      },
      "execution_count": 105,
      "outputs": [
        {
          "output_type": "execute_result",
          "data": {
            "text/plain": [
              "[3, 5]"
            ]
          },
          "metadata": {},
          "execution_count": 105
        }
      ]
    },
    {
      "cell_type": "code",
      "source": [
        "a[-1]"
      ],
      "metadata": {
        "colab": {
          "base_uri": "https://localhost:8080/"
        },
        "id": "HkV7XiMG9MFG",
        "outputId": "f5629eca-6d78-4f5e-c6fd-94f6486a286f"
      },
      "execution_count": 103,
      "outputs": [
        {
          "output_type": "execute_result",
          "data": {
            "text/plain": [
              "6"
            ]
          },
          "metadata": {},
          "execution_count": 103
        }
      ]
    },
    {
      "cell_type": "code",
      "source": [
        "# Reverse the following list\n",
        "\n",
        "a = [1, 2, 3, 4, 5, 6, 7]\n",
        "\n",
        "# Solution\n"
      ],
      "metadata": {
        "id": "sCmrt6jo4BAs"
      },
      "execution_count": 111,
      "outputs": []
    },
    {
      "cell_type": "markdown",
      "source": [
        "Methods"
      ],
      "metadata": {
        "id": "j-DbZ6Yf3u2u"
      }
    },
    {
      "cell_type": "code",
      "source": [
        "a.append(7)\n",
        "print(a)"
      ],
      "metadata": {
        "colab": {
          "base_uri": "https://localhost:8080/"
        },
        "id": "5pNn1r5gFN_a",
        "outputId": "da1c65fd-17d7-44f0-f637-e427c5516199"
      },
      "execution_count": 104,
      "outputs": [
        {
          "output_type": "stream",
          "name": "stdout",
          "text": [
            "[1, 2, 3, 4, 5, 6, 7]\n"
          ]
        }
      ]
    },
    {
      "cell_type": "code",
      "source": [
        "a.pop(-1)\n",
        "print(a)"
      ],
      "metadata": {
        "colab": {
          "base_uri": "https://localhost:8080/"
        },
        "id": "1j_ZvIuzFQVH",
        "outputId": "be9d7676-c21d-424b-ec2a-84febb8f3dfd"
      },
      "execution_count": 108,
      "outputs": [
        {
          "output_type": "stream",
          "name": "stdout",
          "text": [
            "[1, 2, 3, 4, 5, 6]\n"
          ]
        }
      ]
    },
    {
      "cell_type": "code",
      "source": [
        "a.extend([8, 10, 9])\n",
        "print(a)"
      ],
      "metadata": {
        "colab": {
          "base_uri": "https://localhost:8080/"
        },
        "id": "q39jBTTC3w9G",
        "outputId": "1fd5f60a-9009-4973-d726-cae852de85e9"
      },
      "execution_count": 115,
      "outputs": [
        {
          "output_type": "stream",
          "name": "stdout",
          "text": [
            "[1, 2, 3, 4, 5, 6, 7, 8, 9, 10, 8, 10, 9]\n"
          ]
        }
      ]
    },
    {
      "cell_type": "code",
      "source": [
        "a.sort()"
      ],
      "metadata": {
        "id": "SlzgdzBG5F_z"
      },
      "execution_count": 116,
      "outputs": []
    },
    {
      "cell_type": "code",
      "source": [
        "a"
      ],
      "metadata": {
        "colab": {
          "base_uri": "https://localhost:8080/"
        },
        "id": "cTzBrcg35KEt",
        "outputId": "4cc7a8bc-d4b0-4f94-a3de-56b0cf948782"
      },
      "execution_count": 117,
      "outputs": [
        {
          "output_type": "execute_result",
          "data": {
            "text/plain": [
              "[1, 2, 3, 4, 5, 6, 7, 8, 8, 9, 9, 10, 10]"
            ]
          },
          "metadata": {},
          "execution_count": 117
        }
      ]
    },
    {
      "cell_type": "markdown",
      "source": [
        "### Tuples\n",
        "\n",
        "Same as List, but immutable\n",
        "\n",
        "Common methods:\n",
        "- count(item): Returns the number of occurrences of the specified item.\n",
        "- index(item): Returns the index of the first occurrence of the specified item."
      ],
      "metadata": {
        "id": "HEvRx6Sf5UH_"
      }
    },
    {
      "cell_type": "code",
      "source": [
        "b = (3,4,3,6,7)"
      ],
      "metadata": {
        "id": "YWEyLfHQ5WvI"
      },
      "execution_count": 132,
      "outputs": []
    },
    {
      "cell_type": "code",
      "source": [
        "b[:2]"
      ],
      "metadata": {
        "colab": {
          "base_uri": "https://localhost:8080/"
        },
        "id": "c0Ii1RFQ7DAl",
        "outputId": "6d5dfe7d-cb64-48c2-a87a-4595fcd684b7"
      },
      "execution_count": 128,
      "outputs": [
        {
          "output_type": "execute_result",
          "data": {
            "text/plain": [
              "(3, 4)"
            ]
          },
          "metadata": {},
          "execution_count": 128
        }
      ]
    },
    {
      "cell_type": "code",
      "source": [
        "b[2] = 1"
      ],
      "metadata": {
        "colab": {
          "base_uri": "https://localhost:8080/",
          "height": 144
        },
        "id": "OVtgZ6GI7GC2",
        "outputId": "89315d8e-83dc-4c71-c450-fcfb50a97f5f"
      },
      "execution_count": 130,
      "outputs": [
        {
          "output_type": "error",
          "ename": "TypeError",
          "evalue": "'tuple' object does not support item assignment",
          "traceback": [
            "\u001b[0;31m---------------------------------------------------------------------------\u001b[0m",
            "\u001b[0;31mTypeError\u001b[0m                                 Traceback (most recent call last)",
            "\u001b[0;32m<ipython-input-130-8be2e47e702a>\u001b[0m in \u001b[0;36m<cell line: 1>\u001b[0;34m()\u001b[0m\n\u001b[0;32m----> 1\u001b[0;31m \u001b[0mb\u001b[0m\u001b[0;34m[\u001b[0m\u001b[0;36m2\u001b[0m\u001b[0;34m]\u001b[0m \u001b[0;34m=\u001b[0m \u001b[0;36m1\u001b[0m\u001b[0;34m\u001b[0m\u001b[0;34m\u001b[0m\u001b[0m\n\u001b[0m",
            "\u001b[0;31mTypeError\u001b[0m: 'tuple' object does not support item assignment"
          ]
        }
      ]
    },
    {
      "cell_type": "code",
      "source": [
        "b.sort()"
      ],
      "metadata": {
        "colab": {
          "base_uri": "https://localhost:8080/",
          "height": 144
        },
        "id": "WNH6QukE7d0O",
        "outputId": "62f723a2-b36b-4548-d847-15ac86440446"
      },
      "execution_count": 131,
      "outputs": [
        {
          "output_type": "error",
          "ename": "AttributeError",
          "evalue": "'tuple' object has no attribute 'sort'",
          "traceback": [
            "\u001b[0;31m---------------------------------------------------------------------------\u001b[0m",
            "\u001b[0;31mAttributeError\u001b[0m                            Traceback (most recent call last)",
            "\u001b[0;32m<ipython-input-131-b8c00efa69e8>\u001b[0m in \u001b[0;36m<cell line: 1>\u001b[0;34m()\u001b[0m\n\u001b[0;32m----> 1\u001b[0;31m \u001b[0mb\u001b[0m\u001b[0;34m.\u001b[0m\u001b[0msort\u001b[0m\u001b[0;34m(\u001b[0m\u001b[0;34m)\u001b[0m\u001b[0;34m\u001b[0m\u001b[0;34m\u001b[0m\u001b[0m\n\u001b[0m",
            "\u001b[0;31mAttributeError\u001b[0m: 'tuple' object has no attribute 'sort'"
          ]
        }
      ]
    },
    {
      "cell_type": "code",
      "source": [],
      "metadata": {
        "id": "aWa9i-BP8FX9"
      },
      "execution_count": null,
      "outputs": []
    },
    {
      "cell_type": "markdown",
      "source": [
        "### Dictionary\n",
        "\n",
        "Dictionaries are unordered collections of key-value pairs. They are mutable and indexed.\n",
        "\n",
        "Common Methods:\n",
        "\n",
        "- keys(): Returns a view object of all keys in the dictionary.\n",
        "- values(): Returns a view object of all values in the dictionary.\n",
        "- items(): Returns a view object of all key-value pairs in the dictionary.\n",
        "- get(key[, default]): Returns the value associated with the key, or a default value if the key does not exist.\n",
        "- pop(key[, default]): Removes and returns the value associated with the key.\n",
        "- update(iterable): Updates the dictionary with key-value pairs from an iterable.\n"
      ],
      "metadata": {
        "id": "DsaJeU-C9Owa"
      }
    },
    {
      "cell_type": "code",
      "source": [
        "c = {'name': 'Alice', 'age': 25}"
      ],
      "metadata": {
        "id": "O249k4iQ9Ync"
      },
      "execution_count": null,
      "outputs": []
    },
    {
      "cell_type": "code",
      "source": [
        "c[\"name\"]"
      ],
      "metadata": {
        "colab": {
          "base_uri": "https://localhost:8080/",
          "height": 35
        },
        "id": "cbrUSKpS9QNr",
        "outputId": "02baedf9-c7b4-4f41-f3ac-6248ee54257a"
      },
      "execution_count": null,
      "outputs": [
        {
          "output_type": "execute_result",
          "data": {
            "text/plain": [
              "'Alice'"
            ],
            "application/vnd.google.colaboratory.intrinsic+json": {
              "type": "string"
            }
          },
          "metadata": {},
          "execution_count": 15
        }
      ]
    },
    {
      "cell_type": "code",
      "source": [
        "c[\"height\"]"
      ],
      "metadata": {
        "colab": {
          "base_uri": "https://localhost:8080/",
          "height": 144
        },
        "id": "7zQv0rIs9ban",
        "outputId": "66bdc13a-7f56-4d2b-8205-5bd9c58f0c89"
      },
      "execution_count": null,
      "outputs": [
        {
          "output_type": "error",
          "ename": "KeyError",
          "evalue": "'height'",
          "traceback": [
            "\u001b[0;31m---------------------------------------------------------------------------\u001b[0m",
            "\u001b[0;31mKeyError\u001b[0m                                  Traceback (most recent call last)",
            "\u001b[0;32m<ipython-input-16-256eaf69fa7e>\u001b[0m in \u001b[0;36m<cell line: 1>\u001b[0;34m()\u001b[0m\n\u001b[0;32m----> 1\u001b[0;31m \u001b[0mc\u001b[0m\u001b[0;34m[\u001b[0m\u001b[0;34m\"height\"\u001b[0m\u001b[0;34m]\u001b[0m\u001b[0;34m\u001b[0m\u001b[0;34m\u001b[0m\u001b[0m\n\u001b[0m",
            "\u001b[0;31mKeyError\u001b[0m: 'height'"
          ]
        }
      ]
    },
    {
      "cell_type": "code",
      "source": [
        "c.get(\"height\", 0)"
      ],
      "metadata": {
        "colab": {
          "base_uri": "https://localhost:8080/"
        },
        "id": "Az5il9T19fA2",
        "outputId": "984679ee-7839-485d-e9c8-616616d3a0e1"
      },
      "execution_count": null,
      "outputs": [
        {
          "output_type": "execute_result",
          "data": {
            "text/plain": [
              "0"
            ]
          },
          "metadata": {},
          "execution_count": 17
        }
      ]
    },
    {
      "cell_type": "code",
      "source": [
        "c[\"height\"] = 170"
      ],
      "metadata": {
        "id": "s7Mpj44j9lOP"
      },
      "execution_count": null,
      "outputs": []
    },
    {
      "cell_type": "code",
      "source": [
        "c"
      ],
      "metadata": {
        "colab": {
          "base_uri": "https://localhost:8080/"
        },
        "id": "tqfPMg589ozp",
        "outputId": "9944407f-f875-44fc-89cb-000758fec08b"
      },
      "execution_count": null,
      "outputs": [
        {
          "output_type": "execute_result",
          "data": {
            "text/plain": [
              "{'name': 'Alice', 'age': 25, 'height': 170}"
            ]
          },
          "metadata": {},
          "execution_count": 19
        }
      ]
    },
    {
      "cell_type": "markdown",
      "source": [
        "### Sets\n",
        "Sets are unordered collections of unique elements. They are mutable but do not allow duplicate elements."
      ],
      "metadata": {
        "id": "IdQoSGlI9E7L"
      }
    },
    {
      "cell_type": "code",
      "source": [
        "# Example with a set\n",
        "my_set = {1, 2, 3}\n",
        "my_set.add(4)\n",
        "print(my_set)"
      ],
      "metadata": {
        "colab": {
          "base_uri": "https://localhost:8080/"
        },
        "id": "VTfaoqxI9J03",
        "outputId": "4d205c15-6835-4715-fd25-b235785579e1"
      },
      "execution_count": 133,
      "outputs": [
        {
          "output_type": "stream",
          "name": "stdout",
          "text": [
            "{1, 2, 3, 4}\n"
          ]
        }
      ]
    },
    {
      "cell_type": "markdown",
      "source": [
        "## Functions\n",
        "Functions in Python are blocks of organized, reusable code that perform a specific task. They help in modularizing code for better readability, reusability, and maintainability."
      ],
      "metadata": {
        "id": "bQzy7rvSfNkN"
      }
    },
    {
      "cell_type": "markdown",
      "source": [
        "### Defining a Function\n",
        "In Python, you define a function using the def keyword, followed by the function name and parentheses ( ). Any parameters (inputs) are placed inside the parentheses."
      ],
      "metadata": {
        "id": "FKEDbnvk-Nwd"
      }
    },
    {
      "cell_type": "code",
      "source": [
        "def greet(name):\n",
        "    return f\"Hello, {name}!\""
      ],
      "metadata": {
        "id": "kRzDZOJOfPf0"
      },
      "execution_count": 136,
      "outputs": []
    },
    {
      "cell_type": "markdown",
      "source": [
        "### Calling a Function\n",
        "To execute a function and run its code block, you \"call\" the function by using its name followed by parentheses ( ). You can pass arguments (values) into the function's parameters.\n",
        "\n"
      ],
      "metadata": {
        "id": "N1bK1KH--Upo"
      }
    },
    {
      "cell_type": "code",
      "source": [
        "greet(\"Alice\")"
      ],
      "metadata": {
        "colab": {
          "base_uri": "https://localhost:8080/",
          "height": 35
        },
        "id": "Ab4GBwSC-Z5X",
        "outputId": "db4ea8b5-2094-4a5c-9231-09040075442e"
      },
      "execution_count": 137,
      "outputs": [
        {
          "output_type": "execute_result",
          "data": {
            "text/plain": [
              "'Hello, Alice!'"
            ],
            "application/vnd.google.colaboratory.intrinsic+json": {
              "type": "string"
            }
          },
          "metadata": {},
          "execution_count": 137
        }
      ]
    },
    {
      "cell_type": "markdown",
      "source": [
        "### Function Components\n",
        "- Function Name: Unique identifier for calling the function.\n",
        "- Parameters: Inputs passed to the function (optional).\n",
        "- Docstring: Optional documentation describing the - function's purpose.\n",
        "- Body: Block of code executed when the function is called.\n",
        "- Return Statement: Optional statement to return a value from the function.\n"
      ],
      "metadata": {
        "id": "0w-_27Sr-52O"
      }
    },
    {
      "cell_type": "code",
      "source": [
        "def add_numbers(a, b):\n",
        "    \"\"\"Function to add two numbers.\"\"\"\n",
        "    return a + b\n",
        "\n",
        "result = add_numbers(3, 5)\n",
        "print(\"Result:\", result)"
      ],
      "metadata": {
        "colab": {
          "base_uri": "https://localhost:8080/"
        },
        "id": "ht_yhcQVfPyt",
        "outputId": "8db6f357-3fa2-4421-aebe-2ad35d3646d2"
      },
      "execution_count": 135,
      "outputs": [
        {
          "output_type": "stream",
          "name": "stdout",
          "text": [
            "Result: 8\n"
          ]
        }
      ]
    },
    {
      "cell_type": "markdown",
      "source": [
        "## Lambda functions"
      ],
      "metadata": {
        "id": "YK4r-NSk90Ri"
      }
    },
    {
      "cell_type": "code",
      "source": [
        "increment = lambda x: x + 1"
      ],
      "metadata": {
        "id": "uG2uHA7992Ng"
      },
      "execution_count": null,
      "outputs": []
    },
    {
      "cell_type": "code",
      "source": [
        "increment(5)"
      ],
      "metadata": {
        "colab": {
          "base_uri": "https://localhost:8080/"
        },
        "id": "bN0srm7r971G",
        "outputId": "9d4daf4d-5813-41d8-e440-a846afc9be9e"
      },
      "execution_count": null,
      "outputs": [
        {
          "output_type": "execute_result",
          "data": {
            "text/plain": [
              "6"
            ]
          },
          "metadata": {},
          "execution_count": 21
        }
      ]
    },
    {
      "cell_type": "code",
      "source": [
        "expression = lambda x,y : x*y+x+y+1/y"
      ],
      "metadata": {
        "id": "I7_AH8p09-q3"
      },
      "execution_count": null,
      "outputs": []
    },
    {
      "cell_type": "code",
      "source": [
        "expression(2,3)"
      ],
      "metadata": {
        "colab": {
          "base_uri": "https://localhost:8080/"
        },
        "id": "mFLQMUi8-EmU",
        "outputId": "39d4772e-ad93-4bff-84d4-a82276e24723"
      },
      "execution_count": null,
      "outputs": [
        {
          "output_type": "execute_result",
          "data": {
            "text/plain": [
              "11.333333333333334"
            ]
          },
          "metadata": {},
          "execution_count": 23
        }
      ]
    },
    {
      "cell_type": "markdown",
      "source": [
        "## Error Handeling"
      ],
      "metadata": {
        "id": "93L0gIfc-omf"
      }
    },
    {
      "cell_type": "code",
      "source": [
        "try:\n",
        "    result = 10 / 0\n",
        "except ZeroDivisionError:\n",
        "    print(\"Error: Division by zero is not allowed.\")\n",
        "finally:\n",
        "    print(\"Execution completed.\")\n"
      ],
      "metadata": {
        "colab": {
          "base_uri": "https://localhost:8080/"
        },
        "id": "tDwLkfbL-jSU",
        "outputId": "08dd38dd-2935-4f29-be71-f102d1fd3ca4"
      },
      "execution_count": null,
      "outputs": [
        {
          "output_type": "stream",
          "name": "stdout",
          "text": [
            "Error: Division by zero is not allowed.\n",
            "Execution completed.\n"
          ]
        }
      ]
    },
    {
      "cell_type": "code",
      "source": [
        "try:\n",
        "    with open(\"nonexistent.txt\", \"r\") as file:\n",
        "        content = file.read()\n",
        "except Exception as e:\n",
        "    print(f\"Error {e}\")"
      ],
      "metadata": {
        "colab": {
          "base_uri": "https://localhost:8080/"
        },
        "id": "3GCpQR-8-uh6",
        "outputId": "ac381085-e364-460b-f037-0459ef98d3a1"
      },
      "execution_count": null,
      "outputs": [
        {
          "output_type": "stream",
          "name": "stdout",
          "text": [
            "Error [Errno 2] No such file or directory: 'nonexistent.txt'\n"
          ]
        }
      ]
    },
    {
      "cell_type": "markdown",
      "source": [
        "# Advance concepts"
      ],
      "metadata": {
        "id": "bm8kG0Jc_bXP"
      }
    },
    {
      "cell_type": "markdown",
      "source": [
        "## Object Oriented Programming\n",
        "\n",
        "Object-Oriented Programming (OOP) is a paradigm where programs are organized around objects and data, rather than functions and logic. Key concepts include:\n",
        "\n",
        "Classes and Objects\n",
        "- Class: Blueprint for creating objects. Contains attributes (data) and methods (functions).\n",
        "- Object: Instance of a class. Each object has its own attributes and methods."
      ],
      "metadata": {
        "id": "MhdRsK0OBdJb"
      }
    },
    {
      "cell_type": "code",
      "source": [
        "# Example: Creating a class\n",
        "class Person:\n",
        "    def __init__(self, name, age):\n",
        "        self.name = name\n",
        "        self.age = age\n",
        "\n",
        "    def greet(self):\n",
        "        print(f\"Hello, my name is {self.name} and I am {self.age} years old.\")"
      ],
      "metadata": {
        "id": "S9ncyl3ZBpia"
      },
      "execution_count": 141,
      "outputs": []
    },
    {
      "cell_type": "code",
      "source": [
        "# Creating objects (instances)\n",
        "person1 = Person(\"Alice\", 30)\n",
        "person2 = Person(\"Bob\", 25)"
      ],
      "metadata": {
        "id": "j05wleRABwhj"
      },
      "execution_count": 142,
      "outputs": []
    },
    {
      "cell_type": "code",
      "source": [
        "# Accessing attributes and methods\n",
        "print(person1.name)\n",
        "person2.greet()"
      ],
      "metadata": {
        "colab": {
          "base_uri": "https://localhost:8080/"
        },
        "id": "yvBMpdM8BvcB",
        "outputId": "18786517-61f9-4c0d-c495-34138ed20b21"
      },
      "execution_count": 140,
      "outputs": [
        {
          "output_type": "stream",
          "name": "stdout",
          "text": [
            "Alice\n",
            "Hello, my name is Bob and I am 25 years old.\n"
          ]
        }
      ]
    },
    {
      "cell_type": "markdown",
      "source": [
        "### Encapsulation, Inheritance, Polymorphism\n",
        "- Encapsulation: Bundling of data (attributes) and methods that operate on the data within a single unit (class).\n",
        "- Inheritance: Creating new classes by extending existing ones. Subclasses inherit attributes and methods from their parent class (superclass).\n",
        "- Polymorphism: Ability to use a common interface for multiple data types. Methods can be overridden in subclasses."
      ],
      "metadata": {
        "id": "BFYzMiAlC97M"
      }
    },
    {
      "cell_type": "code",
      "source": [
        "# Example: Inheritance and Polymorphism\n",
        "class Animal:\n",
        "    def sound(self, name):\n",
        "        pass\n",
        "\n",
        "class Dog(Animal):\n",
        "    def sound(self):\n",
        "        print(\"Woof!\")\n",
        "\n",
        "class Cat(Animal):\n",
        "    def sound(self):\n",
        "        print(\"Meow!\")\n",
        "\n",
        "# Polymorphic function\n",
        "def make_sound(animal):\n",
        "    animal.sound()\n",
        "\n",
        "dog = Dog()\n",
        "cat = Cat()\n",
        "\n",
        "make_sound(dog)  # Output: Woof!\n",
        "make_sound(cat)  # Output: Meow!"
      ],
      "metadata": {
        "colab": {
          "base_uri": "https://localhost:8080/"
        },
        "id": "m4puqiODDKN5",
        "outputId": "df5fa52b-2c41-4449-ac50-3087478a27ca"
      },
      "execution_count": 144,
      "outputs": [
        {
          "output_type": "stream",
          "name": "stdout",
          "text": [
            "Woof!\n",
            "Meow!\n"
          ]
        }
      ]
    },
    {
      "cell_type": "markdown",
      "source": [
        "### Benefits of OOP\n",
        "- Modularity: Encourages modular design and reusable code.\n",
        "- Code Reuse: Inheritance and polymorphism promote code reuse and maintainability.\n",
        "- Abstraction: Focus on essential attributes and behaviors, hiding complex implementation details.\n"
      ],
      "metadata": {
        "id": "37JpY0x7Datn"
      }
    },
    {
      "cell_type": "code",
      "source": [],
      "metadata": {
        "id": "Bh9OvE99DYe5"
      },
      "execution_count": null,
      "outputs": []
    },
    {
      "cell_type": "markdown",
      "source": [
        "## Modules"
      ],
      "metadata": {
        "id": "st5nXwpJfYkM"
      }
    },
    {
      "cell_type": "markdown",
      "source": [
        "### Creating and Using Modules\n",
        "\n",
        "- Creating a Module:\n",
        "\n",
        "    Save Python code in a `.py` file. This file name serves as the module name.\n",
        "    Example: `my_module.py`\n",
        "\n",
        "- Using a Module:  \n",
        "    Import the module using the import keyword.  \n",
        "    Access functions, classes, or variables defined in the module using dot notation (module_name.item_name)."
      ],
      "metadata": {
        "id": "4NDGkCRqAu3O"
      }
    },
    {
      "cell_type": "code",
      "source": [
        "import math\n",
        "\n",
        "print(f\"Pi: {math.pi}\")\n",
        "print(f\"Square root of 16: {math.sqrt(16)}\")"
      ],
      "metadata": {
        "colab": {
          "base_uri": "https://localhost:8080/"
        },
        "id": "pjHQYR4bfUHN",
        "outputId": "065dc326-8eb8-4d42-ac93-9de4b84e9fe9"
      },
      "execution_count": null,
      "outputs": [
        {
          "output_type": "stream",
          "name": "stdout",
          "text": [
            "Pi: 3.141592653589793\n",
            "Square root of 16: 4.0\n"
          ]
        }
      ]
    },
    {
      "cell_type": "code",
      "source": [
        "!pip install numpy"
      ],
      "metadata": {
        "colab": {
          "base_uri": "https://localhost:8080/"
        },
        "id": "k_SOi29EfWeW",
        "outputId": "49db1cd9-59b8-4562-bb89-46b984df55f3"
      },
      "execution_count": null,
      "outputs": [
        {
          "output_type": "stream",
          "name": "stdout",
          "text": [
            "Requirement already satisfied: numpy in /usr/local/lib/python3.10/dist-packages (1.25.2)\n"
          ]
        }
      ]
    },
    {
      "cell_type": "code",
      "source": [
        "import numpy as np\n",
        "array = np.array(a)\n",
        "print(type(array))"
      ],
      "metadata": {
        "colab": {
          "base_uri": "https://localhost:8080/"
        },
        "id": "Feslb4iPfeiI",
        "outputId": "895766ca-186f-43d6-c49f-cc43d28a17f5"
      },
      "execution_count": null,
      "outputs": [
        {
          "output_type": "stream",
          "name": "stdout",
          "text": [
            "<class 'numpy.ndarray'>\n"
          ]
        }
      ]
    },
    {
      "cell_type": "markdown",
      "source": [
        "QUIZ TIME!!!\n",
        "\n",
        "![panda-quizz-image]()\n",
        "\n",
        "https://forms.gle/mQRC9Em6Do3fUf8CA"
      ],
      "metadata": {
        "id": "Z_1061p1E5Y5"
      }
    }
  ]
}