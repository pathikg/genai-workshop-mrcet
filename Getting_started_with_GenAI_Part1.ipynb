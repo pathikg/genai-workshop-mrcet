{
  "nbformat": 4,
  "nbformat_minor": 0,
  "metadata": {
    "colab": {
      "provenance": [],
      "authorship_tag": "ABX9TyPuQZsudOlIYRenOi3BT84F",
      "include_colab_link": true
    },
    "kernelspec": {
      "name": "python3",
      "display_name": "Python 3"
    },
    "language_info": {
      "name": "python"
    }
  },
  "cells": [
    {
      "cell_type": "markdown",
      "metadata": {
        "id": "view-in-github",
        "colab_type": "text"
      },
      "source": [
        "<a href=\"https://colab.research.google.com/github/pathikg/genai-workshop-mrec/blob/main/Getting_started_with_GenAI_Part1.ipynb\" target=\"_parent\"><img src=\"https://colab.research.google.com/assets/colab-badge.svg\" alt=\"Open In Colab\"/></a>"
      ]
    },
    {
      "cell_type": "markdown",
      "source": [
        "# Getting started with GenAI - Part 1\n",
        "\n",
        "![hello](https://raw.githubusercontent.com/pathikg/genai-workshop-mrec/main/media/hello-world.jpeg)\n",
        "\n",
        "\n",
        "\n",
        "---\n",
        "\n",
        "\n",
        "Welcome to the Python module!\n",
        "\n",
        "In this notebook, we will quickly go over the basics of Python and explore some advanced concepts.  \n",
        "Follow along and execute the cells to see the output.\n",
        "\n",
        "\n",
        "## Table of Contents\n",
        "1. Introduction to Python\n",
        "2. Basic Python Concepts\n",
        "3. Advanced Python Concepts\n",
        "4. Hands-on Exercises\n",
        "\n"
      ],
      "metadata": {
        "id": "cPE_wA6GVmHx"
      }
    },
    {
      "cell_type": "markdown",
      "source": [
        "# Introduction to Python\n",
        "\n",
        "![python snake meme]()\n",
        "\n",
        "## Why Python for GenAI?\n",
        "\n",
        "Python is the language of choice for many AI applications because,\n",
        "- **Ease of Learning and Use**: Python's syntax is straightforward and easy to learn, making it accessible for beginners and experts alike.\n",
        "\n",
        "![hello-world-comparison](https://www.softwaretestinghelp.com/wp-content/qa/uploads/2020/03/Code-Readability.png)\n",
        "\n",
        "- **Extensive Libraries and Frameworks**: Python boasts a rich ecosystem of libraries and frameworks, such as TensorFlow, PyTorch, HuggingFace Transformers, and more, which are essential for developing AI models.\n",
        "\n",
        "![libraries](https://datarundown.com/wp-content/uploads/2022/04/Top-10-Python-Libraries-Used-1.png)\n",
        "\n",
        "- **Community Support**: Python has a large and active community, which means you can easily find resources, tutorials, and support for any problem you encounter.\n",
        "- **Integration Capabilities**: Python can easily integrate with other languages and tools, making it a versatile choice for a wide range of applications.\n",
        "- **Productivity and Speed**: Python allows for rapid development and iteration, which is crucial in the fast-paced field of AI and GenAI.\n",
        "\n",
        "In the context of Generative AI (GenAI), Python's powerful libraries and tools enable developers to create advanced models for natural language processing (NLP), image generation, and more, making it an indispensable tool for anyone looking to explore this exciting field.\n",
        "\n",
        "Let's dive into some basic and advanced Python concepts to get you started!"
      ],
      "metadata": {
        "id": "MMXZodcyb56Y"
      }
    },
    {
      "cell_type": "markdown",
      "source": [
        "# Basic Python Concepts"
      ],
      "metadata": {
        "id": "BKtwEMG6hUAv"
      }
    },
    {
      "cell_type": "markdown",
      "source": [
        "## Variables\n",
        "\n",
        "In Python, variables are used to store data values. They are created when you assign a value to a name, and they do not need explicit declaration of their data type.\n"
      ],
      "metadata": {
        "id": "Ne6HjQy0d-ah"
      }
    },
    {
      "cell_type": "code",
      "execution_count": null,
      "metadata": {
        "id": "FhV54xzGRZ0f"
      },
      "outputs": [],
      "source": [
        "x = 10\n",
        "y = 3.14\n",
        "name = \"Alice\"\n",
        "is_student = True"
      ]
    },
    {
      "cell_type": "markdown",
      "source": [
        "## Data Types\n",
        "\n",
        "\n",
        "### Data Types in Python\n",
        "\n",
        "Python supports several built-in data types that are fundamental for storing and manipulating data:\n",
        "\n",
        "1. **Numeric Types:**\n",
        "   - **int**: Integer numbers, e.g., 10, -3, 1000.\n",
        "   - **float**: Floating-point numbers, e.g., 3.14, -0.001, 2.0.\n",
        "\n",
        "2. **Sequence Types:**\n",
        "   - **str**: Strings of characters, e.g., \"hello\", 'Python'.\n",
        "   - **list**: Ordered collection of items, mutable, e.g., [1, 2, 3], ['a', 'b', 'c'].\n",
        "   - **tuple**: Ordered collection of items, immutable, e.g., (1, 2, 3), ('a', 'b', 'c').\n",
        "\n",
        "3. **Boolean Type:**\n",
        "   - **bool**: Represents truth values, True or False.\n",
        "\n",
        "4. **Mapping Type:**\n",
        "   - **dict**: Collection of key-value pairs, e.g., {'name': 'Alice', 'age': 30}.\n",
        "\n",
        "5. **Set Types:**\n",
        "   - **set**: Unordered collection of unique items, e.g., {1, 2, 3}, {'a', 'b', 'c'}.\n",
        "   - **frozenset**: Immutable version of set, e.g., frozenset({1, 2, 3}).\n",
        "\n",
        "6. **None Type:**\n",
        "   - **NoneType**: Represents the absence of a value, similar to null in other languages.\n",
        "\n",
        "\n"
      ],
      "metadata": {
        "id": "dCBnPawzi194"
      }
    },
    {
      "cell_type": "code",
      "source": [
        "# Numeric types\n",
        "num_int = 10\n",
        "num_float = 3.14\n",
        "\n",
        "# Sequence types\n",
        "my_string = \"Hello\"\n",
        "my_list = [1, 2, 3]\n",
        "my_tuple = (4, 5, 6)\n",
        "\n",
        "# Boolean type\n",
        "is_active = True\n",
        "\n",
        "# Mapping type\n",
        "person = {'name': 'Alice', 'age': 30}\n",
        "\n",
        "# Set types\n",
        "my_set = {1, 2, 3}\n",
        "my_frozenset = frozenset({4, 5, 6})\n",
        "\n",
        "# None type\n",
        "value = None"
      ],
      "metadata": {
        "id": "ck5MsKKdeN31"
      },
      "execution_count": null,
      "outputs": []
    },
    {
      "cell_type": "code",
      "source": [
        "my_set.add(5)"
      ],
      "metadata": {
        "id": "meFQIR75ZQx1"
      },
      "execution_count": null,
      "outputs": []
    },
    {
      "cell_type": "code",
      "source": [
        "my_set"
      ],
      "metadata": {
        "colab": {
          "base_uri": "https://localhost:8080/"
        },
        "id": "yKzJTQYZZUfb",
        "outputId": "6836a4bf-6611-443f-a5a9-49f1346f0052"
      },
      "execution_count": null,
      "outputs": [
        {
          "output_type": "execute_result",
          "data": {
            "text/plain": [
              "{1, 2, 3, 5}"
            ]
          },
          "metadata": {},
          "execution_count": 7
        }
      ]
    },
    {
      "cell_type": "code",
      "source": [
        "my_frozenset.add(5)"
      ],
      "metadata": {
        "colab": {
          "base_uri": "https://localhost:8080/",
          "height": 141
        },
        "id": "qAZhVnO1ZWfw",
        "outputId": "0b3e3866-f2c6-4348-80a8-abf05157fc51"
      },
      "execution_count": null,
      "outputs": [
        {
          "output_type": "error",
          "ename": "AttributeError",
          "evalue": "'frozenset' object has no attribute 'add'",
          "traceback": [
            "\u001b[0;31m---------------------------------------------------------------------------\u001b[0m",
            "\u001b[0;31mAttributeError\u001b[0m                            Traceback (most recent call last)",
            "\u001b[0;32m<ipython-input-8-b94369434344>\u001b[0m in \u001b[0;36m<cell line: 1>\u001b[0;34m()\u001b[0m\n\u001b[0;32m----> 1\u001b[0;31m \u001b[0mmy_frozenset\u001b[0m\u001b[0;34m.\u001b[0m\u001b[0madd\u001b[0m\u001b[0;34m(\u001b[0m\u001b[0;36m5\u001b[0m\u001b[0;34m)\u001b[0m\u001b[0;34m\u001b[0m\u001b[0;34m\u001b[0m\u001b[0m\n\u001b[0m",
            "\u001b[0;31mAttributeError\u001b[0m: 'frozenset' object has no attribute 'add'"
          ]
        }
      ]
    },
    {
      "cell_type": "code",
      "source": [
        "print(type(num_int))"
      ],
      "metadata": {
        "colab": {
          "base_uri": "https://localhost:8080/"
        },
        "id": "u7n0Dq0nkCHn",
        "outputId": "fb996148-8f78-49dd-96b2-c1d0d6748ff0"
      },
      "execution_count": null,
      "outputs": [
        {
          "output_type": "stream",
          "name": "stdout",
          "text": [
            "<class 'int'>\n"
          ]
        }
      ]
    },
    {
      "cell_type": "code",
      "source": [
        "print(type(person))"
      ],
      "metadata": {
        "colab": {
          "base_uri": "https://localhost:8080/"
        },
        "id": "ZewDTKQNkFpY",
        "outputId": "4f1d2d08-2ba4-4142-a9fb-7a3e8a8e5489"
      },
      "execution_count": null,
      "outputs": [
        {
          "output_type": "stream",
          "name": "stdout",
          "text": [
            "<class 'dict'>\n"
          ]
        }
      ]
    },
    {
      "cell_type": "markdown",
      "source": [
        "## Type Conversion (Casting)\n",
        "\n",
        "Python allows converting one data type to another using type casting functions:\n",
        "- `int()`, `float()`, `str()`, `list()`, `tuple()`, `dict()`, `set()` for explicit type conversion."
      ],
      "metadata": {
        "id": "bXy6uKeojDuV"
      }
    },
    {
      "cell_type": "code",
      "source": [
        "str_number = \"2\""
      ],
      "metadata": {
        "id": "0Ga__y5kjDVE"
      },
      "execution_count": null,
      "outputs": []
    },
    {
      "cell_type": "code",
      "source": [
        "print(type(str_number))"
      ],
      "metadata": {
        "colab": {
          "base_uri": "https://localhost:8080/"
        },
        "id": "7LqaLWEZko5Z",
        "outputId": "d27e7d34-f75b-4e2f-f44b-f56f55ae4aba"
      },
      "execution_count": null,
      "outputs": [
        {
          "output_type": "stream",
          "name": "stdout",
          "text": [
            "<class 'str'>\n"
          ]
        }
      ]
    },
    {
      "cell_type": "code",
      "source": [
        "int_number = int(str_number)"
      ],
      "metadata": {
        "id": "ibiH8fI5kiq0"
      },
      "execution_count": null,
      "outputs": []
    },
    {
      "cell_type": "code",
      "source": [
        "print(type(int_number))"
      ],
      "metadata": {
        "colab": {
          "base_uri": "https://localhost:8080/"
        },
        "id": "qz9vh_vtkorF",
        "outputId": "c6b92206-28e4-4b04-e268-aa3e3bcd3a6d"
      },
      "execution_count": null,
      "outputs": [
        {
          "output_type": "stream",
          "name": "stdout",
          "text": [
            "<class 'int'>\n"
          ]
        }
      ]
    },
    {
      "cell_type": "code",
      "source": [
        "print(int(6.9))"
      ],
      "metadata": {
        "colab": {
          "base_uri": "https://localhost:8080/"
        },
        "id": "QG6FOjfJlQ88",
        "outputId": "8c2f9308-c83b-4b14-fcbb-e224be97e506"
      },
      "execution_count": null,
      "outputs": [
        {
          "output_type": "stream",
          "name": "stdout",
          "text": [
            "6\n"
          ]
        }
      ]
    },
    {
      "cell_type": "code",
      "source": [
        "print(float(\"6.9\"))"
      ],
      "metadata": {
        "colab": {
          "base_uri": "https://localhost:8080/"
        },
        "id": "GnGzVH85lM6m",
        "outputId": "13168315-7a5f-47e6-b1e7-fec770cbfe72"
      },
      "execution_count": null,
      "outputs": [
        {
          "output_type": "stream",
          "name": "stdout",
          "text": [
            "6.9\n"
          ]
        }
      ]
    },
    {
      "cell_type": "code",
      "source": [
        "# guess the output ?\n",
        "str_number = \"6.9\"\n",
        "print(int(str_number))"
      ],
      "metadata": {
        "id": "SgZsEU7dlI7o",
        "colab": {
          "base_uri": "https://localhost:8080/",
          "height": 179
        },
        "outputId": "56281ffa-225a-47bd-fece-079495af46ac"
      },
      "execution_count": null,
      "outputs": [
        {
          "output_type": "error",
          "ename": "ValueError",
          "evalue": "invalid literal for int() with base 10: '6.9'",
          "traceback": [
            "\u001b[0;31m---------------------------------------------------------------------------\u001b[0m",
            "\u001b[0;31mValueError\u001b[0m                                Traceback (most recent call last)",
            "\u001b[0;32m<ipython-input-18-166d59e97a27>\u001b[0m in \u001b[0;36m<cell line: 3>\u001b[0;34m()\u001b[0m\n\u001b[1;32m      1\u001b[0m \u001b[0;31m# guess the output ?\u001b[0m\u001b[0;34m\u001b[0m\u001b[0;34m\u001b[0m\u001b[0m\n\u001b[1;32m      2\u001b[0m \u001b[0mstr_number\u001b[0m \u001b[0;34m=\u001b[0m \u001b[0;34m\"6.9\"\u001b[0m\u001b[0;34m\u001b[0m\u001b[0;34m\u001b[0m\u001b[0m\n\u001b[0;32m----> 3\u001b[0;31m \u001b[0mprint\u001b[0m\u001b[0;34m(\u001b[0m\u001b[0mint\u001b[0m\u001b[0;34m(\u001b[0m\u001b[0mstr_number\u001b[0m\u001b[0;34m)\u001b[0m\u001b[0;34m)\u001b[0m\u001b[0;34m\u001b[0m\u001b[0;34m\u001b[0m\u001b[0m\n\u001b[0m",
            "\u001b[0;31mValueError\u001b[0m: invalid literal for int() with base 10: '6.9'"
          ]
        }
      ]
    },
    {
      "cell_type": "code",
      "source": [
        "my_tuple"
      ],
      "metadata": {
        "colab": {
          "base_uri": "https://localhost:8080/"
        },
        "id": "dy9By5YvlK5x",
        "outputId": "cf3daae9-eb4d-4ca8-ce3c-2a853a212b46"
      },
      "execution_count": null,
      "outputs": [
        {
          "output_type": "execute_result",
          "data": {
            "text/plain": [
              "(4, 5, 6)"
            ]
          },
          "metadata": {},
          "execution_count": 19
        }
      ]
    },
    {
      "cell_type": "code",
      "source": [
        "list(my_tuple)"
      ],
      "metadata": {
        "colab": {
          "base_uri": "https://localhost:8080/"
        },
        "id": "TLSrZ8t7mU5t",
        "outputId": "bb937863-50e9-4173-ea89-a37d5785c5f4"
      },
      "execution_count": null,
      "outputs": [
        {
          "output_type": "execute_result",
          "data": {
            "text/plain": [
              "[4, 5, 6]"
            ]
          },
          "metadata": {},
          "execution_count": 26
        }
      ]
    },
    {
      "cell_type": "markdown",
      "source": [
        "> notice i'm printing without `print()` ;)"
      ],
      "metadata": {
        "id": "rs3rv8eUmYz1"
      }
    },
    {
      "cell_type": "markdown",
      "source": [
        "## Operators"
      ],
      "metadata": {
        "id": "7A32pVOiotTV"
      }
    },
    {
      "cell_type": "markdown",
      "source": [
        "### Arithmetic Operators\n",
        "Arithmetic operators are used to perform mathematical operations like a calculator\n",
        "\n",
        "Python supports the following arithmetic operators:\n",
        "\n",
        "| Operator   | Purpose           | Example     | Result    |\n",
        "|------------|-------------------|-------------|-----------|\n",
        "| `+`        | Addition          | `2 + 3`     | `5`       |\n",
        "| `-`        | Subtraction       | `3 - 2`     | `1`       |\n",
        "| `*`        | Multiplication    | `8 * 12`    | `96`      |\n",
        "| `/`        | Division          | `100 / 7`   | `14.28..` |\n",
        "| `//`       | Floor Division    | `100 // 7`  | `14`      |    \n",
        "| `%`        | Modulus/Remainder | `100 % 7`   | `2`       |\n",
        "| `**`       | Exponent          | `5 ** 3`    | `125`     |\n",
        "\n",
        "\n",
        "Try solving some simple problems from this page:\n",
        "https://www.math-only-math.com/worksheet-on-word-problems-on-four-operations.html .\n",
        "\n"
      ],
      "metadata": {
        "id": "aucYsnGzmmwc"
      }
    },
    {
      "cell_type": "code",
      "source": [
        "x = 10\n",
        "y = 3\n",
        "\n",
        "addition = x + y       # Addition\n",
        "subtraction = x - y    # Subtraction\n",
        "multiplication = x * y # Multiplication\n",
        "division = x / y       # Division\n",
        "floor_division = x // y# Floor Division, quotient\n",
        "modulo = x % y         # Modulo, remainder\n",
        "exponentiation = x ** y# Exponentiation"
      ],
      "metadata": {
        "id": "JdZ47Fmvn9k4"
      },
      "execution_count": null,
      "outputs": []
    },
    {
      "cell_type": "code",
      "source": [
        "addition"
      ],
      "metadata": {
        "colab": {
          "base_uri": "https://localhost:8080/"
        },
        "id": "j-4Da7V7oNt-",
        "outputId": "b027df12-8b0c-4bb9-ed16-d3385b1eabc2"
      },
      "execution_count": null,
      "outputs": [
        {
          "output_type": "execute_result",
          "data": {
            "text/plain": [
              "13"
            ]
          },
          "metadata": {},
          "execution_count": 21
        }
      ]
    },
    {
      "cell_type": "code",
      "source": [
        "division"
      ],
      "metadata": {
        "colab": {
          "base_uri": "https://localhost:8080/"
        },
        "id": "wzTZhoHdoZns",
        "outputId": "b784ede3-a079-417a-9f8c-7206aee441ac"
      },
      "execution_count": null,
      "outputs": [
        {
          "output_type": "execute_result",
          "data": {
            "text/plain": [
              "3.3333333333333335"
            ]
          },
          "metadata": {},
          "execution_count": 22
        }
      ]
    },
    {
      "cell_type": "code",
      "source": [
        "floor_division"
      ],
      "metadata": {
        "colab": {
          "base_uri": "https://localhost:8080/"
        },
        "id": "9accbYGWoPYe",
        "outputId": "39d063d5-cd28-40b5-aee4-e66e7970f9d7"
      },
      "execution_count": null,
      "outputs": [
        {
          "output_type": "execute_result",
          "data": {
            "text/plain": [
              "3"
            ]
          },
          "metadata": {},
          "execution_count": 23
        }
      ]
    },
    {
      "cell_type": "code",
      "source": [
        "modulo"
      ],
      "metadata": {
        "colab": {
          "base_uri": "https://localhost:8080/"
        },
        "id": "nsdlGFzhoTFL",
        "outputId": "6effc3dc-c63d-4e80-947d-fcd8aae18661"
      },
      "execution_count": null,
      "outputs": [
        {
          "output_type": "execute_result",
          "data": {
            "text/plain": [
              "1"
            ]
          },
          "metadata": {},
          "execution_count": 35
        }
      ]
    },
    {
      "cell_type": "markdown",
      "source": [
        "### Comparison Operators\n",
        "Comparison operators are used to compare values. They return boolean values such as `True` or `False`\n",
        "\n"
      ],
      "metadata": {
        "id": "HMmUBdvdnm4H"
      }
    },
    {
      "cell_type": "code",
      "source": [
        "x = 10\n",
        "y = 3\n",
        "\n",
        "equal = x == y      # Equal to\n",
        "not_equal = x != y  # Not equal to\n",
        "greater = x > y     # Greater than\n",
        "less = x < y        # Less than\n",
        "greater_equal = x >= y  # Greater than or equal to\n",
        "less_equal = x <= y     # Less than or equal to"
      ],
      "metadata": {
        "id": "GOzm19V5nZhr"
      },
      "execution_count": null,
      "outputs": []
    },
    {
      "cell_type": "code",
      "source": [
        "equal"
      ],
      "metadata": {
        "colab": {
          "base_uri": "https://localhost:8080/"
        },
        "id": "yv2emq4vofmf",
        "outputId": "98c83d16-64ec-4289-c976-e20db847dea8"
      },
      "execution_count": null,
      "outputs": [
        {
          "output_type": "execute_result",
          "data": {
            "text/plain": [
              "False"
            ]
          },
          "metadata": {},
          "execution_count": 25
        }
      ]
    },
    {
      "cell_type": "code",
      "source": [
        "less"
      ],
      "metadata": {
        "colab": {
          "base_uri": "https://localhost:8080/"
        },
        "id": "g-CGVxdtog-b",
        "outputId": "5cc07bac-83d4-456f-87e9-41adc85d8e48"
      },
      "execution_count": null,
      "outputs": [
        {
          "output_type": "execute_result",
          "data": {
            "text/plain": [
              "False"
            ]
          },
          "metadata": {},
          "execution_count": 26
        }
      ]
    },
    {
      "cell_type": "code",
      "source": [
        "greater_equal"
      ],
      "metadata": {
        "colab": {
          "base_uri": "https://localhost:8080/"
        },
        "id": "oyw_mkzsohrC",
        "outputId": "040ba2c3-f119-48e4-f1c8-ea11a535318a"
      },
      "execution_count": null,
      "outputs": [
        {
          "output_type": "execute_result",
          "data": {
            "text/plain": [
              "True"
            ]
          },
          "metadata": {},
          "execution_count": 27
        }
      ]
    },
    {
      "cell_type": "code",
      "source": [
        "less_equal"
      ],
      "metadata": {
        "colab": {
          "base_uri": "https://localhost:8080/"
        },
        "id": "c8cdNy2Friog",
        "outputId": "f8294183-34ac-44c1-b6f0-fbf4a0e12e72"
      },
      "execution_count": null,
      "outputs": [
        {
          "output_type": "execute_result",
          "data": {
            "text/plain": [
              "False"
            ]
          },
          "metadata": {},
          "execution_count": 28
        }
      ]
    },
    {
      "cell_type": "markdown",
      "source": [
        "### Logical Operators\n",
        "\n",
        "Logical operators are used to combine conditional statements.\n",
        "e.g. AND, OR, NOT"
      ],
      "metadata": {
        "id": "T9dv0ShVou5a"
      }
    },
    {
      "cell_type": "code",
      "source": [
        "x = True\n",
        "y = False\n",
        "\n",
        "and_op = x and y    # Logical AND\n",
        "or_op = x or y      # Logical OR\n",
        "not_op = not x      # Logical NOT"
      ],
      "metadata": {
        "id": "SCP-Dpn_oyCb"
      },
      "execution_count": null,
      "outputs": []
    },
    {
      "cell_type": "code",
      "source": [
        "and_op, or_op, not_op"
      ],
      "metadata": {
        "colab": {
          "base_uri": "https://localhost:8080/"
        },
        "id": "HTmcnhapoz-r",
        "outputId": "9b2e5ad4-783d-4b0a-ac93-78a9d78583f0"
      },
      "execution_count": null,
      "outputs": [
        {
          "output_type": "execute_result",
          "data": {
            "text/plain": [
              "(False, True, False)"
            ]
          },
          "metadata": {},
          "execution_count": 30
        }
      ]
    },
    {
      "cell_type": "code",
      "source": [
        "# Guess the output?\n",
        "x = 10\n",
        "y = 3\n",
        "\n",
        "op = x > 5 and y < 5\n",
        "print(op)"
      ],
      "metadata": {
        "id": "Ebl0AZ6ip7cL",
        "colab": {
          "base_uri": "https://localhost:8080/"
        },
        "outputId": "616c3186-7924-4886-d355-637ebc12a9b3"
      },
      "execution_count": null,
      "outputs": [
        {
          "output_type": "stream",
          "name": "stdout",
          "text": [
            "True\n"
          ]
        }
      ]
    },
    {
      "cell_type": "code",
      "source": [
        "# Guess the output?\n",
        "x = -1\n",
        "y = 0\n",
        "\n",
        "op = (x == y) or not y\n",
        "print(op)"
      ],
      "metadata": {
        "id": "hOO757G8qCq7",
        "colab": {
          "base_uri": "https://localhost:8080/"
        },
        "outputId": "44981eb7-ea0f-408b-9775-0d09b8468406"
      },
      "execution_count": null,
      "outputs": [
        {
          "output_type": "stream",
          "name": "stdout",
          "text": [
            "True\n"
          ]
        }
      ]
    },
    {
      "cell_type": "code",
      "source": [],
      "metadata": {
        "id": "m95nWL5OsdzW"
      },
      "execution_count": null,
      "outputs": []
    },
    {
      "cell_type": "markdown",
      "source": [
        "### Bitwise Operators\n",
        "Bitwise operators are used to perform bitwise calculations on integers."
      ],
      "metadata": {
        "id": "WPbIfG96qiMF"
      }
    },
    {
      "cell_type": "code",
      "source": [
        "x = 10   # 1010 in binary\n",
        "y = 4    # 0100 in binary\n",
        "\n",
        "bitwise_and = x & y    # Bitwise AND\n",
        "bitwise_or = x | y     # Bitwise OR\n",
        "bitwise_xor = x ^ y    # Bitwise XOR\n",
        "bitwise_not_x = ~x     # Bitwise NOT\n",
        "left_shift = x << 1    # Left shift\n",
        "right_shift = x >> 1   # Right shift"
      ],
      "metadata": {
        "id": "kIOMH-skqlli"
      },
      "execution_count": null,
      "outputs": []
    },
    {
      "cell_type": "code",
      "source": [
        "bitwise_and"
      ],
      "metadata": {
        "colab": {
          "base_uri": "https://localhost:8080/"
        },
        "id": "Hqutx8wAqo9I",
        "outputId": "ab803ea6-464d-4937-deb7-27c3ff8dcbc4"
      },
      "execution_count": null,
      "outputs": [
        {
          "output_type": "execute_result",
          "data": {
            "text/plain": [
              "0"
            ]
          },
          "metadata": {},
          "execution_count": 34
        }
      ]
    },
    {
      "cell_type": "code",
      "source": [
        "bitwise_or"
      ],
      "metadata": {
        "colab": {
          "base_uri": "https://localhost:8080/"
        },
        "id": "IQEGjxhnqssO",
        "outputId": "dada786c-19dd-4941-c51c-e80f2dd9fed1"
      },
      "execution_count": null,
      "outputs": [
        {
          "output_type": "execute_result",
          "data": {
            "text/plain": [
              "14"
            ]
          },
          "metadata": {},
          "execution_count": 35
        }
      ]
    },
    {
      "cell_type": "code",
      "source": [
        "right_shift"
      ],
      "metadata": {
        "colab": {
          "base_uri": "https://localhost:8080/"
        },
        "id": "ILu7UV0-q22h",
        "outputId": "a658cb6a-a607-433c-8f28-b89c84b9d617"
      },
      "execution_count": null,
      "outputs": [
        {
          "output_type": "execute_result",
          "data": {
            "text/plain": [
              "5"
            ]
          },
          "metadata": {},
          "execution_count": 36
        }
      ]
    },
    {
      "cell_type": "markdown",
      "source": [
        "### Assignment Operators\n",
        "Assignment operators are used to assign values to variables."
      ],
      "metadata": {
        "id": "FLc5OMMsrABy"
      }
    },
    {
      "cell_type": "code",
      "source": [
        "x = 10\n",
        "x += 5   # Equivalent to x = x + 5 ,equivalent to x++ in c/c++\n",
        "x -= 3   # Equivalent to x = x - 3\n",
        "x *= 2   # Equivalent to x = x * 2\n",
        "x /= 4   # Equivalent to x = x / 4\n",
        "x //= 3  # Equivalent to x = x // 3\n",
        "x %= 2   # Equivalent to x = x % 2\n",
        "x **= 3  # Equivalent to x = x ** 3"
      ],
      "metadata": {
        "id": "1S0sPY2DrDe2"
      },
      "execution_count": null,
      "outputs": []
    },
    {
      "cell_type": "markdown",
      "source": [
        "### Membership Operators\n",
        "Membership operators are used to test if a sequence is presented in an object"
      ],
      "metadata": {
        "id": "L1GuxilVrNpX"
      }
    },
    {
      "cell_type": "code",
      "source": [
        "list = [1, 2, 3, 4, 5]\n",
        "\n",
        "in_op = 2 in list       # True\n",
        "not_in_op = 6 in list # True"
      ],
      "metadata": {
        "id": "XLPuFzpHrFJW"
      },
      "execution_count": null,
      "outputs": []
    },
    {
      "cell_type": "code",
      "source": [
        "in_op"
      ],
      "metadata": {
        "colab": {
          "base_uri": "https://localhost:8080/"
        },
        "id": "tEKUKoHcr4cr",
        "outputId": "b4c0dd0c-a142-4705-d5fb-81cee8773faa"
      },
      "execution_count": null,
      "outputs": [
        {
          "output_type": "execute_result",
          "data": {
            "text/plain": [
              "True"
            ]
          },
          "metadata": {},
          "execution_count": 39
        }
      ]
    },
    {
      "cell_type": "code",
      "source": [
        "not_in_op"
      ],
      "metadata": {
        "colab": {
          "base_uri": "https://localhost:8080/"
        },
        "id": "NeZZAeDAr5PL",
        "outputId": "a66c7d0e-d51b-450b-8338-8debca09d3ae"
      },
      "execution_count": null,
      "outputs": [
        {
          "output_type": "execute_result",
          "data": {
            "text/plain": [
              "False"
            ]
          },
          "metadata": {},
          "execution_count": 40
        }
      ]
    },
    {
      "cell_type": "markdown",
      "source": [
        "### Identity Operators\n",
        "Identity operators compare the memory locations of two objects."
      ],
      "metadata": {
        "id": "g0S3pjYIr7mN"
      }
    },
    {
      "cell_type": "code",
      "source": [
        "x = [1, 2, 3]\n",
        "y = [1, 2, 3]\n",
        "z = x\n",
        "\n",
        "is_op = x is z       # True, because z is the same object as x\n",
        "is_not_op = x is not y # True, because x is not the same object as y"
      ],
      "metadata": {
        "id": "iVutGN3Sr9e1"
      },
      "execution_count": null,
      "outputs": []
    },
    {
      "cell_type": "code",
      "source": [
        "is_op"
      ],
      "metadata": {
        "colab": {
          "base_uri": "https://localhost:8080/"
        },
        "id": "Ry8vLYUnsAds",
        "outputId": "4009dcd4-125e-4048-e83c-d0a61aa04842"
      },
      "execution_count": null,
      "outputs": [
        {
          "output_type": "execute_result",
          "data": {
            "text/plain": [
              "True"
            ]
          },
          "metadata": {},
          "execution_count": 59
        }
      ]
    },
    {
      "cell_type": "code",
      "source": [
        "is_not_op"
      ],
      "metadata": {
        "colab": {
          "base_uri": "https://localhost:8080/"
        },
        "id": "76wQplaXsBic",
        "outputId": "fa9dc893-955d-4adb-f8f8-2045933caeaa"
      },
      "execution_count": null,
      "outputs": [
        {
          "output_type": "execute_result",
          "data": {
            "text/plain": [
              "True"
            ]
          },
          "metadata": {},
          "execution_count": 60
        }
      ]
    },
    {
      "cell_type": "markdown",
      "source": [
        "#### funny thing"
      ],
      "metadata": {
        "id": "odLLObPXsC4G"
      }
    },
    {
      "cell_type": "code",
      "source": [
        "x"
      ],
      "metadata": {
        "colab": {
          "base_uri": "https://localhost:8080/"
        },
        "id": "uDPFMhJDs4sr",
        "outputId": "a550c0e7-bee7-4031-9d40-526c73fc51dd"
      },
      "execution_count": null,
      "outputs": [
        {
          "output_type": "execute_result",
          "data": {
            "text/plain": [
              "[1, 2, 3]"
            ]
          },
          "metadata": {},
          "execution_count": 64
        }
      ]
    },
    {
      "cell_type": "code",
      "source": [
        "z"
      ],
      "metadata": {
        "colab": {
          "base_uri": "https://localhost:8080/"
        },
        "id": "tLZghLXSsFur",
        "outputId": "08845685-8bc3-4be1-ad89-60db9931db89"
      },
      "execution_count": null,
      "outputs": [
        {
          "output_type": "execute_result",
          "data": {
            "text/plain": [
              "[1, 2, 3]"
            ]
          },
          "metadata": {},
          "execution_count": 63
        }
      ]
    },
    {
      "cell_type": "code",
      "source": [
        "z[0] = 6"
      ],
      "metadata": {
        "id": "oqmBk8zSsNUG"
      },
      "execution_count": null,
      "outputs": []
    },
    {
      "cell_type": "code",
      "source": [
        "z"
      ],
      "metadata": {
        "colab": {
          "base_uri": "https://localhost:8080/"
        },
        "id": "p3g9zycxtANW",
        "outputId": "5721df8e-4ff9-4512-cfff-818a189911b7"
      },
      "execution_count": null,
      "outputs": [
        {
          "output_type": "execute_result",
          "data": {
            "text/plain": [
              "[6, 2, 3]"
            ]
          },
          "metadata": {},
          "execution_count": 67
        }
      ]
    },
    {
      "cell_type": "code",
      "source": [
        "x"
      ],
      "metadata": {
        "colab": {
          "base_uri": "https://localhost:8080/"
        },
        "id": "0ag1C5rvtBKV",
        "outputId": "2baa735a-b652-43c5-966d-07462eb8ce70"
      },
      "execution_count": null,
      "outputs": [
        {
          "output_type": "execute_result",
          "data": {
            "text/plain": [
              "[6, 2, 3]"
            ]
          },
          "metadata": {},
          "execution_count": 68
        }
      ]
    },
    {
      "cell_type": "markdown",
      "source": [
        "Pass by Reference and Pass by Value in Python\n",
        "Python handles variables differently based on whether they are mutable or immutable:\n",
        "\n",
        "- **Mutable Objects**: Mutable objects like lists and dictionaries are **passed by reference**. When you assign a mutable object to another variable, you are actually pointing both variables to the same object in memory. Changes made through one variable will reflect in the other.\n",
        "\n",
        "- **Immutable Objects**: Immutable objects like integers, floats, strings, and tuples are **passed by value**. This means when you assign a variable to another, a copy of the object is made.\n",
        "\n",
        "\n",
        "Thus,  \n",
        "z = x assigns z to reference the same list as x in memory. Modifying z also modifies x because they both point to the same list object. This demonstrates pass by reference behavior in Python for mutable objects.\n",
        "\n",
        "\n",
        "\n"
      ],
      "metadata": {
        "id": "FUmruYiNtSNr"
      }
    },
    {
      "cell_type": "markdown",
      "source": [
        "## Control Flow in Python\n",
        "Control flow in Python allows you to alter the flow of program execution based on specified conditions or to repeat blocks of code.\n"
      ],
      "metadata": {
        "id": "lw60geVCug_y"
      }
    },
    {
      "cell_type": "markdown",
      "source": [
        "### Conditional Statements\n",
        "\n",
        "Conditional statements are used to make decisions in your code"
      ],
      "metadata": {
        "id": "YbZI-2tcuy5S"
      }
    },
    {
      "cell_type": "markdown",
      "source": [
        "#### If-else Statements"
      ],
      "metadata": {
        "id": "7-j9EBcveDvo"
      }
    },
    {
      "cell_type": "code",
      "source": [
        "num = 10\n",
        "if num > 0:\n",
        "    print(\"Positive number\")\n",
        "elif num == 0:\n",
        "    print(\"Zero\")\n",
        "else:\n",
        "    print(\"Negative number\")"
      ],
      "metadata": {
        "colab": {
          "base_uri": "https://localhost:8080/"
        },
        "id": "1C3O0ScCdZJK",
        "outputId": "fce14551-1ef0-4992-f4c0-0399d56d5cec"
      },
      "execution_count": null,
      "outputs": [
        {
          "output_type": "stream",
          "name": "stdout",
          "text": [
            "Positive number\n"
          ]
        }
      ]
    },
    {
      "cell_type": "markdown",
      "source": [
        "#### nested if-else statements"
      ],
      "metadata": {
        "id": "oN1uGTKywoT7"
      }
    },
    {
      "cell_type": "code",
      "source": [
        "num = 10\n",
        "if num >= 0:\n",
        "    if num == 0:\n",
        "        print(\"Zero\")\n",
        "    else:\n",
        "        print(\"Positive number\")\n",
        "else:\n",
        "    print(\"Negative number\")"
      ],
      "metadata": {
        "colab": {
          "base_uri": "https://localhost:8080/"
        },
        "id": "ZgE1poXjwrKa",
        "outputId": "1c34f91c-c045-4401-a97a-6e1c605b1110"
      },
      "execution_count": null,
      "outputs": [
        {
          "output_type": "stream",
          "name": "stdout",
          "text": [
            "Positive number\n"
          ]
        }
      ]
    },
    {
      "cell_type": "markdown",
      "source": [
        "### Loops\n",
        "Loops are used to iterate over a sequence or execute a block of code repeatedly"
      ],
      "metadata": {
        "id": "uxlksoWjxuN3"
      }
    },
    {
      "cell_type": "markdown",
      "source": [
        "#### For Loop"
      ],
      "metadata": {
        "id": "L0PaZm_-eJbf"
      }
    },
    {
      "cell_type": "code",
      "source": [
        "for i in range(5):\n",
        "    print(f\"Iteration {i}\")"
      ],
      "metadata": {
        "colab": {
          "base_uri": "https://localhost:8080/"
        },
        "id": "B9ULd8pud3x-",
        "outputId": "07ffd2d6-227f-48cd-93d0-ded4be37adc6"
      },
      "execution_count": null,
      "outputs": [
        {
          "output_type": "stream",
          "name": "stdout",
          "text": [
            "Iteration 0\n",
            "Iteration 1\n",
            "Iteration 2\n",
            "Iteration 3\n",
            "Iteration 4\n"
          ]
        }
      ]
    },
    {
      "cell_type": "code",
      "source": [
        "for i in range(3,5):\n",
        "    print(f\"Iteration {i}\")"
      ],
      "metadata": {
        "colab": {
          "base_uri": "https://localhost:8080/"
        },
        "id": "bWwu6hreBcDr",
        "outputId": "c9400649-34a6-4107-cc37-2b4feaabc00f"
      },
      "execution_count": null,
      "outputs": [
        {
          "output_type": "stream",
          "name": "stdout",
          "text": [
            "Iteration 3\n",
            "Iteration 4\n"
          ]
        }
      ]
    },
    {
      "cell_type": "code",
      "source": [
        "a = [1, 2, \"cherry\", 4 , 6.0]"
      ],
      "metadata": {
        "id": "Cbw_3NMKfHOV"
      },
      "execution_count": null,
      "outputs": []
    },
    {
      "cell_type": "code",
      "source": [
        "for i in range(len(a)):\n",
        "    print(a[i])"
      ],
      "metadata": {
        "colab": {
          "base_uri": "https://localhost:8080/"
        },
        "id": "yWq6WONQwafm",
        "outputId": "e35c93af-4d0b-452a-d48d-2e61b1392f49"
      },
      "execution_count": null,
      "outputs": [
        {
          "output_type": "stream",
          "name": "stdout",
          "text": [
            "1\n",
            "2\n",
            "cherry\n",
            "4\n",
            "6.0\n"
          ]
        }
      ]
    },
    {
      "cell_type": "code",
      "source": [
        "for element in a:\n",
        "    print(element)"
      ],
      "metadata": {
        "colab": {
          "base_uri": "https://localhost:8080/"
        },
        "id": "EO_R_NPJfBI_",
        "outputId": "15d28043-d3a7-4c2d-d603-b85b904611ab"
      },
      "execution_count": null,
      "outputs": [
        {
          "output_type": "stream",
          "name": "stdout",
          "text": [
            "1\n",
            "2\n",
            "cherry\n",
            "4\n",
            "6.0\n"
          ]
        }
      ]
    },
    {
      "cell_type": "markdown",
      "source": [
        "#### While loop"
      ],
      "metadata": {
        "id": "eWksNugJe7CZ"
      }
    },
    {
      "cell_type": "code",
      "source": [
        "count = 0\n",
        "while count < 5:\n",
        "    print(f\"Count: {count}\")\n",
        "    count += 1"
      ],
      "metadata": {
        "id": "UbVgpQgYeMoy",
        "colab": {
          "base_uri": "https://localhost:8080/"
        },
        "outputId": "c3059b7c-b8fb-43b6-be9a-cb8db556b36d"
      },
      "execution_count": null,
      "outputs": [
        {
          "output_type": "stream",
          "name": "stdout",
          "text": [
            "Count: 0\n",
            "Count: 1\n",
            "Count: 2\n",
            "Count: 3\n",
            "Count: 4\n"
          ]
        }
      ]
    },
    {
      "cell_type": "code",
      "source": [
        "count = 10\n",
        "while count:\n",
        "    print(f\"Count: {count}\")\n",
        "    count -= 1"
      ],
      "metadata": {
        "colab": {
          "base_uri": "https://localhost:8080/"
        },
        "id": "SayfF1-kxyOo",
        "outputId": "258b2246-cf97-4340-b7bc-bd0104e6d730"
      },
      "execution_count": null,
      "outputs": [
        {
          "output_type": "stream",
          "name": "stdout",
          "text": [
            "Count: 10\n",
            "Count: 9\n",
            "Count: 8\n",
            "Count: 7\n",
            "Count: 6\n",
            "Count: 5\n",
            "Count: 4\n",
            "Count: 3\n",
            "Count: 2\n",
            "Count: 1\n"
          ]
        }
      ]
    },
    {
      "cell_type": "markdown",
      "source": [
        "### Loop control statements\n",
        "\n",
        "- **break**: Terminates the loop.\n",
        "- **continue**: Skips the rest of the loop and continues with the next iteration.\n",
        "- **pass**: Placeholder that does nothing when executed, used when syntax requires a statement but you have nothing to write."
      ],
      "metadata": {
        "id": "mw3sPJHZyC0o"
      }
    },
    {
      "cell_type": "code",
      "source": [
        "for letter in 'Python':\n",
        "    if letter == 'h':\n",
        "        break\n",
        "    print('Current Letter :', letter)"
      ],
      "metadata": {
        "colab": {
          "base_uri": "https://localhost:8080/"
        },
        "id": "EE7K2EityNC0",
        "outputId": "5e4a4de8-26d8-4e3c-999a-96a9025f2906"
      },
      "execution_count": null,
      "outputs": [
        {
          "output_type": "stream",
          "name": "stdout",
          "text": [
            "Current Letter : P\n",
            "Current Letter : y\n",
            "Current Letter : t\n"
          ]
        }
      ]
    },
    {
      "cell_type": "code",
      "source": [
        "for letter in 'Python':\n",
        "    if letter == 'o':\n",
        "        continue\n",
        "    print('Current Letter :', letter)\n"
      ],
      "metadata": {
        "colab": {
          "base_uri": "https://localhost:8080/"
        },
        "id": "fbVlRg4YyTfh",
        "outputId": "8e772baa-2c62-435f-a4dd-569b9df18243"
      },
      "execution_count": null,
      "outputs": [
        {
          "output_type": "stream",
          "name": "stdout",
          "text": [
            "Current Letter : P\n",
            "Current Letter : y\n",
            "Current Letter : t\n",
            "Current Letter : h\n",
            "Current Letter : n\n"
          ]
        }
      ]
    },
    {
      "cell_type": "code",
      "source": [
        "if 1 == 1 :\n",
        "    print(\"ok\")\n",
        "    pass\n",
        "    print(\"pass\")"
      ],
      "metadata": {
        "colab": {
          "base_uri": "https://localhost:8080/"
        },
        "id": "evr5X7EjyfJq",
        "outputId": "96ba2291-a68b-4d63-b0f2-deee9252bd67"
      },
      "execution_count": null,
      "outputs": [
        {
          "output_type": "stream",
          "name": "stdout",
          "text": [
            "ok\n",
            "pass\n"
          ]
        }
      ]
    },
    {
      "cell_type": "markdown",
      "source": [
        "## Input and Output Operations in Python\n"
      ],
      "metadata": {
        "id": "h_3oXoX_yuCO"
      }
    },
    {
      "cell_type": "markdown",
      "source": [
        "### Standard Input (stdin)\n",
        "\n",
        "Use input() function to prompt the user for input. It reads input as a string by default.\n"
      ],
      "metadata": {
        "id": "GIXNIRxDy0N0"
      }
    },
    {
      "cell_type": "code",
      "source": [
        "name = input(\"Enter your name: \")\n",
        "print(f\"Hello, {name}!\")"
      ],
      "metadata": {
        "colab": {
          "base_uri": "https://localhost:8080/"
        },
        "id": "_xtvjX6GywHl",
        "outputId": "f8279559-a84d-46b4-c402-e7f543450ccd"
      },
      "execution_count": null,
      "outputs": [
        {
          "output_type": "stream",
          "name": "stdout",
          "text": [
            "Enter your name: john\n",
            "Hello, john!\n"
          ]
        }
      ]
    },
    {
      "cell_type": "markdown",
      "source": [
        "### Standard Output (stdout)\n",
        "Use `print()` function to output data to the console.\n"
      ],
      "metadata": {
        "id": "UTRCXC19z0q4"
      }
    },
    {
      "cell_type": "code",
      "source": [
        "print(\"Good Afternoon!\")"
      ],
      "metadata": {
        "colab": {
          "base_uri": "https://localhost:8080/"
        },
        "id": "ohCne5EPywzG",
        "outputId": "8df00ce9-d003-4687-ac6b-374f73f9bf71"
      },
      "execution_count": null,
      "outputs": [
        {
          "output_type": "stream",
          "name": "stdout",
          "text": [
            "Good Afternoon!\n"
          ]
        }
      ]
    },
    {
      "cell_type": "markdown",
      "source": [
        "### Files"
      ],
      "metadata": {
        "id": "Z5HbZ3YK0Odh"
      }
    },
    {
      "cell_type": "code",
      "source": [
        "!touch hello.txt\n",
        "!echo \"Hello, World!\" > hello.txt"
      ],
      "metadata": {
        "id": "AO_aPb4zflKl"
      },
      "execution_count": null,
      "outputs": []
    },
    {
      "cell_type": "markdown",
      "source": [
        "#### Reading from a File:\n",
        "\n",
        "Use open() function to open a file and read() or readlines() methods to read its content."
      ],
      "metadata": {
        "id": "NhhVf5Pb1lVO"
      }
    },
    {
      "cell_type": "code",
      "source": [
        "with open(\"hello.txt\", \"r\") as file:\n",
        "    content = file.read()\n",
        "    print(content)"
      ],
      "metadata": {
        "colab": {
          "base_uri": "https://localhost:8080/"
        },
        "id": "NJCbWi_H-SPZ",
        "outputId": "0e47eae5-bdc8-498c-8c1b-9183d989c71c"
      },
      "execution_count": null,
      "outputs": [
        {
          "output_type": "stream",
          "name": "stdout",
          "text": [
            "Hello, World!\n",
            "\n"
          ]
        }
      ]
    },
    {
      "cell_type": "markdown",
      "source": [
        "#### Writing to a File:\n",
        "\n",
        "Use open() function with mode 'w' or 'a' to write or append to a file."
      ],
      "metadata": {
        "id": "Z1W16EPN1vR1"
      }
    },
    {
      "cell_type": "code",
      "source": [
        "# Open the file in write mode\n",
        "with open(\"hello.txt\", \"w\") as file:\n",
        "    # Write the content to the file\n",
        "    file.write(\"This is a new hello word.\")"
      ],
      "metadata": {
        "id": "3TkYhtV9-YWV"
      },
      "execution_count": null,
      "outputs": []
    },
    {
      "cell_type": "code",
      "source": [
        "!cat hello.txt"
      ],
      "metadata": {
        "colab": {
          "base_uri": "https://localhost:8080/"
        },
        "id": "OaSwpa5U-fNe",
        "outputId": "01ddda7f-04fa-4db1-a703-1bc626b8e197"
      },
      "execution_count": null,
      "outputs": [
        {
          "output_type": "stream",
          "name": "stdout",
          "text": [
            "This is a new hello word."
          ]
        }
      ]
    },
    {
      "cell_type": "markdown",
      "source": [
        "## Data Structures\n",
        "\n",
        "Data structures in Python are used to store collections of data in an organized manner. Each type of data structure has its own properties and methods for accessing and manipulating the data stored within it."
      ],
      "metadata": {
        "id": "1V_oP8-TsGwU"
      }
    },
    {
      "cell_type": "markdown",
      "source": [
        "### List\n",
        "\n",
        "Lists are ordered collections of items. They are mutable, meaning their elements can be changed after creation.\n",
        "\n",
        "Common Methods:\n",
        "\n",
        "- append(item): Adds an item to the end of the list.\n",
        "- extend(iterable): Extends the list by appending elements from an iterable.\n",
        "- insert(index, item): Inserts an item at a specified index.\n",
        "- pop([index]): Removes and returns the item at the specified index (default is the last item).\n",
        "- remove(item): Removes the first occurrence of the specified item.\n",
        "- index(item): Returns the index of the first occurrence of the specified item.\n",
        "- count(item): Returns the number of occurrences of the specified item.\n",
        "- sort(): Sorts the list in ascending order.\n",
        "- reverse(): Reverses the elements of the list."
      ],
      "metadata": {
        "id": "RT5QFGHG9DwS"
      }
    },
    {
      "cell_type": "code",
      "source": [
        "a = [1, 2, 3, 4, 5, 6, 7]"
      ],
      "metadata": {
        "id": "QnlJo7ZS9S9v"
      },
      "execution_count": null,
      "outputs": []
    },
    {
      "cell_type": "code",
      "source": [
        "index = 5\n",
        "a[index]"
      ],
      "metadata": {
        "colab": {
          "base_uri": "https://localhost:8080/"
        },
        "id": "NY74sgIc5YLF",
        "outputId": "00fd2ed3-c16d-43ce-925b-5e93feee0a78"
      },
      "execution_count": null,
      "outputs": [
        {
          "output_type": "execute_result",
          "data": {
            "text/plain": [
              "6"
            ]
          },
          "metadata": {},
          "execution_count": 53
        }
      ]
    },
    {
      "cell_type": "code",
      "source": [
        "a[10]"
      ],
      "metadata": {
        "id": "v__HCyAh5bAT",
        "collapsed": true
      },
      "execution_count": null,
      "outputs": []
    },
    {
      "cell_type": "code",
      "source": [
        "a[-1]"
      ],
      "metadata": {
        "colab": {
          "base_uri": "https://localhost:8080/"
        },
        "id": "kvAXBM975d84",
        "outputId": "b9a2bf20-5ded-4f79-8599-e102ce3a795d"
      },
      "execution_count": null,
      "outputs": [
        {
          "output_type": "execute_result",
          "data": {
            "text/plain": [
              "7"
            ]
          },
          "metadata": {},
          "execution_count": 124
        }
      ]
    },
    {
      "cell_type": "code",
      "source": [],
      "metadata": {
        "id": "Soti879k0Czr"
      },
      "execution_count": null,
      "outputs": []
    },
    {
      "cell_type": "markdown",
      "source": [
        "#### Slicing\n",
        "\n",
        "\n",
        "Slicing in Python allows you to extract a portion of a sequence (such as a string, list, tuple, or any iterable) by specifying a start index, stop index, and an optional step size. It provides a flexible way to access subsets of data without modifying the original sequence.\n",
        "\n",
        "Syntax:\n",
        "`sequence[start:stop:step]`\n",
        "\n",
        "- start: Starting index of the slice (inclusive). Defaults to 0 if not specified.\n",
        "- stop: Ending index of the slice (exclusive). Defaults to the end of the sequence if not specified.\n",
        "- step: Step size for slicing. Defaults to 1 if not specified. A negative step size means slicing in reverse."
      ],
      "metadata": {
        "id": "ScTawM822uLj"
      }
    },
    {
      "cell_type": "code",
      "source": [
        "a[0:3]"
      ],
      "metadata": {
        "colab": {
          "base_uri": "https://localhost:8080/"
        },
        "id": "HSdYMBX-3gGf",
        "outputId": "2e678319-b00c-422a-bc7c-8c58c28c6e5e"
      },
      "execution_count": null,
      "outputs": [
        {
          "output_type": "execute_result",
          "data": {
            "text/plain": [
              "[1, 2, 3]"
            ]
          },
          "metadata": {},
          "execution_count": 54
        }
      ]
    },
    {
      "cell_type": "code",
      "source": [
        "a[2:5:2]"
      ],
      "metadata": {
        "colab": {
          "base_uri": "https://localhost:8080/"
        },
        "id": "NTEWYxk39ITL",
        "outputId": "fd4234b8-fba8-4e19-9bc1-dff6511d06cb"
      },
      "execution_count": null,
      "outputs": [
        {
          "output_type": "execute_result",
          "data": {
            "text/plain": [
              "[3, 5]"
            ]
          },
          "metadata": {},
          "execution_count": 55
        }
      ]
    },
    {
      "cell_type": "code",
      "source": [
        "a[-1]"
      ],
      "metadata": {
        "colab": {
          "base_uri": "https://localhost:8080/"
        },
        "id": "HkV7XiMG9MFG",
        "outputId": "07453d4e-6c02-4c71-97a2-cd82e94de945"
      },
      "execution_count": null,
      "outputs": [
        {
          "output_type": "execute_result",
          "data": {
            "text/plain": [
              "7"
            ]
          },
          "metadata": {},
          "execution_count": 56
        }
      ]
    },
    {
      "cell_type": "code",
      "source": [
        "# Reverse the following list\n",
        "\n",
        "a = [1, 2, 3, 4, 5, 6, 7]\n",
        "\n",
        "# Solution\n",
        "a[-1:-8:-1]"
      ],
      "metadata": {
        "id": "sCmrt6jo4BAs",
        "colab": {
          "base_uri": "https://localhost:8080/"
        },
        "outputId": "f6970da7-0385-4eeb-c505-b9b2028a5462"
      },
      "execution_count": null,
      "outputs": [
        {
          "output_type": "execute_result",
          "data": {
            "text/plain": [
              "[7, 6, 5, 4, 3, 2, 1]"
            ]
          },
          "metadata": {},
          "execution_count": 59
        }
      ]
    },
    {
      "cell_type": "code",
      "source": [
        "a[::-1]"
      ],
      "metadata": {
        "colab": {
          "base_uri": "https://localhost:8080/"
        },
        "id": "VN4fGPa81pci",
        "outputId": "f3f1e0b1-2ddb-4337-edd5-52be24dbd9f1"
      },
      "execution_count": null,
      "outputs": [
        {
          "output_type": "execute_result",
          "data": {
            "text/plain": [
              "[7, 6, 5, 4, 3, 2, 1]"
            ]
          },
          "metadata": {},
          "execution_count": 60
        }
      ]
    },
    {
      "cell_type": "markdown",
      "source": [
        "Methods"
      ],
      "metadata": {
        "id": "j-DbZ6Yf3u2u"
      }
    },
    {
      "cell_type": "code",
      "source": [
        "a.append(7)\n",
        "print(a)"
      ],
      "metadata": {
        "colab": {
          "base_uri": "https://localhost:8080/"
        },
        "id": "5pNn1r5gFN_a",
        "outputId": "b1617fb8-6cce-4e11-f593-4114c85c38a3"
      },
      "execution_count": null,
      "outputs": [
        {
          "output_type": "stream",
          "name": "stdout",
          "text": [
            "[1, 2, 3, 4, 5, 6, 7, 7]\n"
          ]
        }
      ]
    },
    {
      "cell_type": "code",
      "source": [
        "a.pop(-1)\n",
        "print(a)"
      ],
      "metadata": {
        "colab": {
          "base_uri": "https://localhost:8080/"
        },
        "id": "1j_ZvIuzFQVH",
        "outputId": "80e58810-3948-44e8-f640-04844cd5bb36"
      },
      "execution_count": null,
      "outputs": [
        {
          "output_type": "stream",
          "name": "stdout",
          "text": [
            "[1, 2, 3, 4, 5, 6, 7]\n"
          ]
        }
      ]
    },
    {
      "cell_type": "code",
      "source": [
        "a.extend([8, 10, 9])\n",
        "print(a)"
      ],
      "metadata": {
        "colab": {
          "base_uri": "https://localhost:8080/"
        },
        "id": "q39jBTTC3w9G",
        "outputId": "30fb1061-9988-4ebf-9d30-adf30fce3585"
      },
      "execution_count": null,
      "outputs": [
        {
          "output_type": "stream",
          "name": "stdout",
          "text": [
            "[1, 2, 3, 4, 5, 6, 7, 8, 10, 9]\n"
          ]
        }
      ]
    },
    {
      "cell_type": "code",
      "source": [
        "a.sort()"
      ],
      "metadata": {
        "id": "SlzgdzBG5F_z"
      },
      "execution_count": null,
      "outputs": []
    },
    {
      "cell_type": "code",
      "source": [
        "a"
      ],
      "metadata": {
        "colab": {
          "base_uri": "https://localhost:8080/"
        },
        "id": "cTzBrcg35KEt",
        "outputId": "919e3ba3-9d5f-496e-f053-5bd97968e287"
      },
      "execution_count": null,
      "outputs": [
        {
          "output_type": "execute_result",
          "data": {
            "text/plain": [
              "[1, 2, 3, 4, 5, 6, 7, 8, 9, 10]"
            ]
          },
          "metadata": {},
          "execution_count": 65
        }
      ]
    },
    {
      "cell_type": "markdown",
      "source": [
        "### Tuples\n",
        "\n",
        "Same as List, but immutable\n",
        "\n",
        "Common methods:\n",
        "- count(item): Returns the number of occurrences of the specified item.\n",
        "- index(item): Returns the index of the first occurrence of the specified item."
      ],
      "metadata": {
        "id": "HEvRx6Sf5UH_"
      }
    },
    {
      "cell_type": "code",
      "source": [
        "b = (3,4,3,6,7)"
      ],
      "metadata": {
        "id": "YWEyLfHQ5WvI"
      },
      "execution_count": null,
      "outputs": []
    },
    {
      "cell_type": "code",
      "source": [
        "b[:2]"
      ],
      "metadata": {
        "colab": {
          "base_uri": "https://localhost:8080/"
        },
        "id": "c0Ii1RFQ7DAl",
        "outputId": "1fefdda0-3f25-4524-9d8d-3ed9ec589a6d"
      },
      "execution_count": null,
      "outputs": [
        {
          "output_type": "execute_result",
          "data": {
            "text/plain": [
              "(3, 4)"
            ]
          },
          "metadata": {},
          "execution_count": 67
        }
      ]
    },
    {
      "cell_type": "code",
      "source": [
        "b[2] = 1"
      ],
      "metadata": {
        "colab": {
          "base_uri": "https://localhost:8080/",
          "height": 144
        },
        "id": "OVtgZ6GI7GC2",
        "outputId": "d929ab5e-023d-41fd-a1fa-36651e257a32"
      },
      "execution_count": null,
      "outputs": [
        {
          "output_type": "error",
          "ename": "TypeError",
          "evalue": "'tuple' object does not support item assignment",
          "traceback": [
            "\u001b[0;31m---------------------------------------------------------------------------\u001b[0m",
            "\u001b[0;31mTypeError\u001b[0m                                 Traceback (most recent call last)",
            "\u001b[0;32m<ipython-input-69-8be2e47e702a>\u001b[0m in \u001b[0;36m<cell line: 1>\u001b[0;34m()\u001b[0m\n\u001b[0;32m----> 1\u001b[0;31m \u001b[0mb\u001b[0m\u001b[0;34m[\u001b[0m\u001b[0;36m2\u001b[0m\u001b[0;34m]\u001b[0m \u001b[0;34m=\u001b[0m \u001b[0;36m1\u001b[0m\u001b[0;34m\u001b[0m\u001b[0;34m\u001b[0m\u001b[0m\n\u001b[0m",
            "\u001b[0;31mTypeError\u001b[0m: 'tuple' object does not support item assignment"
          ]
        }
      ]
    },
    {
      "cell_type": "code",
      "source": [
        "b.sort()"
      ],
      "metadata": {
        "colab": {
          "base_uri": "https://localhost:8080/",
          "height": 144
        },
        "id": "WNH6QukE7d0O",
        "outputId": "b63cc942-1c6b-437d-ad54-dbaf5963f091"
      },
      "execution_count": null,
      "outputs": [
        {
          "output_type": "error",
          "ename": "AttributeError",
          "evalue": "'tuple' object has no attribute 'sort'",
          "traceback": [
            "\u001b[0;31m---------------------------------------------------------------------------\u001b[0m",
            "\u001b[0;31mAttributeError\u001b[0m                            Traceback (most recent call last)",
            "\u001b[0;32m<ipython-input-70-b8c00efa69e8>\u001b[0m in \u001b[0;36m<cell line: 1>\u001b[0;34m()\u001b[0m\n\u001b[0;32m----> 1\u001b[0;31m \u001b[0mb\u001b[0m\u001b[0;34m.\u001b[0m\u001b[0msort\u001b[0m\u001b[0;34m(\u001b[0m\u001b[0;34m)\u001b[0m\u001b[0;34m\u001b[0m\u001b[0;34m\u001b[0m\u001b[0m\n\u001b[0m",
            "\u001b[0;31mAttributeError\u001b[0m: 'tuple' object has no attribute 'sort'"
          ]
        }
      ]
    },
    {
      "cell_type": "code",
      "source": [],
      "metadata": {
        "id": "aWa9i-BP8FX9"
      },
      "execution_count": null,
      "outputs": []
    },
    {
      "cell_type": "markdown",
      "source": [
        "### Dictionary\n",
        "\n",
        "Dictionaries are unordered collections of key-value pairs. They are mutable and indexed.\n",
        "\n",
        "Common Methods:\n",
        "\n",
        "- keys(): Returns a view object of all keys in the dictionary.\n",
        "- values(): Returns a view object of all values in the dictionary.\n",
        "- items(): Returns a view object of all key-value pairs in the dictionary.\n",
        "- get(key[, default]): Returns the value associated with the key, or a default value if the key does not exist.\n",
        "- pop(key[, default]): Removes and returns the value associated with the key.\n",
        "- update(iterable): Updates the dictionary with key-value pairs from an iterable.\n"
      ],
      "metadata": {
        "id": "DsaJeU-C9Owa"
      }
    },
    {
      "cell_type": "code",
      "source": [
        "c = {'name': 'Alice', 'age': 25}"
      ],
      "metadata": {
        "id": "O249k4iQ9Ync"
      },
      "execution_count": null,
      "outputs": []
    },
    {
      "cell_type": "code",
      "source": [
        "c[\"name\"]"
      ],
      "metadata": {
        "colab": {
          "base_uri": "https://localhost:8080/",
          "height": 35
        },
        "id": "cbrUSKpS9QNr",
        "outputId": "21119446-10e3-4f89-a7e3-6b9c68d2c6f8"
      },
      "execution_count": null,
      "outputs": [
        {
          "output_type": "execute_result",
          "data": {
            "text/plain": [
              "'Alice'"
            ],
            "application/vnd.google.colaboratory.intrinsic+json": {
              "type": "string"
            }
          },
          "metadata": {},
          "execution_count": 72
        }
      ]
    },
    {
      "cell_type": "code",
      "source": [
        "c[\"age\"]"
      ],
      "metadata": {
        "colab": {
          "base_uri": "https://localhost:8080/"
        },
        "id": "ZnUNsWNg3eIT",
        "outputId": "d50e77b5-5553-429d-bcd0-2cca6667e5f7"
      },
      "execution_count": null,
      "outputs": [
        {
          "output_type": "execute_result",
          "data": {
            "text/plain": [
              "25"
            ]
          },
          "metadata": {},
          "execution_count": 74
        }
      ]
    },
    {
      "cell_type": "code",
      "source": [
        "c[\"height\"]"
      ],
      "metadata": {
        "colab": {
          "base_uri": "https://localhost:8080/",
          "height": 144
        },
        "id": "7zQv0rIs9ban",
        "outputId": "2418f4b0-4459-4359-b8d5-93df6be49d9f"
      },
      "execution_count": null,
      "outputs": [
        {
          "output_type": "error",
          "ename": "KeyError",
          "evalue": "'height'",
          "traceback": [
            "\u001b[0;31m---------------------------------------------------------------------------\u001b[0m",
            "\u001b[0;31mKeyError\u001b[0m                                  Traceback (most recent call last)",
            "\u001b[0;32m<ipython-input-75-256eaf69fa7e>\u001b[0m in \u001b[0;36m<cell line: 1>\u001b[0;34m()\u001b[0m\n\u001b[0;32m----> 1\u001b[0;31m \u001b[0mc\u001b[0m\u001b[0;34m[\u001b[0m\u001b[0;34m\"height\"\u001b[0m\u001b[0;34m]\u001b[0m\u001b[0;34m\u001b[0m\u001b[0;34m\u001b[0m\u001b[0m\n\u001b[0m",
            "\u001b[0;31mKeyError\u001b[0m: 'height'"
          ]
        }
      ]
    },
    {
      "cell_type": "code",
      "source": [
        "c.get(\"height\", 0)"
      ],
      "metadata": {
        "colab": {
          "base_uri": "https://localhost:8080/"
        },
        "id": "Az5il9T19fA2",
        "outputId": "b3f8c57e-94d5-4649-ddb9-0c188af7f605"
      },
      "execution_count": null,
      "outputs": [
        {
          "output_type": "execute_result",
          "data": {
            "text/plain": [
              "0"
            ]
          },
          "metadata": {},
          "execution_count": 76
        }
      ]
    },
    {
      "cell_type": "code",
      "source": [
        "c"
      ],
      "metadata": {
        "colab": {
          "base_uri": "https://localhost:8080/"
        },
        "id": "lyLTbKeB3w9P",
        "outputId": "2c37b783-ef92-4fad-a995-defea5dd41c3"
      },
      "execution_count": null,
      "outputs": [
        {
          "output_type": "execute_result",
          "data": {
            "text/plain": [
              "{'name': 'Alice', 'age': 25}"
            ]
          },
          "metadata": {},
          "execution_count": 77
        }
      ]
    },
    {
      "cell_type": "code",
      "source": [
        "c[\"height\"] = 170"
      ],
      "metadata": {
        "id": "s7Mpj44j9lOP"
      },
      "execution_count": null,
      "outputs": []
    },
    {
      "cell_type": "code",
      "source": [
        "c"
      ],
      "metadata": {
        "colab": {
          "base_uri": "https://localhost:8080/"
        },
        "id": "tqfPMg589ozp",
        "outputId": "655cb8ab-fb7b-47bd-92c0-5aca3b2d74ac"
      },
      "execution_count": null,
      "outputs": [
        {
          "output_type": "execute_result",
          "data": {
            "text/plain": [
              "{'name': 'Alice', 'age': 25, 'height': 170}"
            ]
          },
          "metadata": {},
          "execution_count": 80
        }
      ]
    },
    {
      "cell_type": "code",
      "source": [
        "# guess output\n",
        "\n",
        "c[[1,2,3]] = 1\n",
        "c"
      ],
      "metadata": {
        "colab": {
          "base_uri": "https://localhost:8080/",
          "height": 197
        },
        "id": "sFCO67oc37pM",
        "outputId": "ff5c70ea-8d48-4e73-e250-3c39cc66c964"
      },
      "execution_count": null,
      "outputs": [
        {
          "output_type": "error",
          "ename": "TypeError",
          "evalue": "unhashable type: 'list'",
          "traceback": [
            "\u001b[0;31m---------------------------------------------------------------------------\u001b[0m",
            "\u001b[0;31mTypeError\u001b[0m                                 Traceback (most recent call last)",
            "\u001b[0;32m<ipython-input-78-14833b45574d>\u001b[0m in \u001b[0;36m<cell line: 3>\u001b[0;34m()\u001b[0m\n\u001b[1;32m      1\u001b[0m \u001b[0;31m# guess output\u001b[0m\u001b[0;34m\u001b[0m\u001b[0;34m\u001b[0m\u001b[0m\n\u001b[1;32m      2\u001b[0m \u001b[0;34m\u001b[0m\u001b[0m\n\u001b[0;32m----> 3\u001b[0;31m \u001b[0mc\u001b[0m\u001b[0;34m[\u001b[0m\u001b[0;34m[\u001b[0m\u001b[0;36m1\u001b[0m\u001b[0;34m,\u001b[0m\u001b[0;36m2\u001b[0m\u001b[0;34m,\u001b[0m\u001b[0;36m3\u001b[0m\u001b[0;34m]\u001b[0m\u001b[0;34m]\u001b[0m \u001b[0;34m=\u001b[0m \u001b[0;36m1\u001b[0m\u001b[0;34m\u001b[0m\u001b[0;34m\u001b[0m\u001b[0m\n\u001b[0m\u001b[1;32m      4\u001b[0m \u001b[0mc\u001b[0m\u001b[0;34m\u001b[0m\u001b[0;34m\u001b[0m\u001b[0m\n",
            "\u001b[0;31mTypeError\u001b[0m: unhashable type: 'list'"
          ]
        }
      ]
    },
    {
      "cell_type": "code",
      "source": [
        "c"
      ],
      "metadata": {
        "colab": {
          "base_uri": "https://localhost:8080/"
        },
        "id": "ayi6ClQG4aQr",
        "outputId": "b5450487-d01f-4d12-a07e-ab32b52768ea"
      },
      "execution_count": null,
      "outputs": [
        {
          "output_type": "execute_result",
          "data": {
            "text/plain": [
              "{'name': 'Alice', 'age': 25, 'height': 170}"
            ]
          },
          "metadata": {},
          "execution_count": 81
        }
      ]
    },
    {
      "cell_type": "code",
      "source": [
        "for key in c:\n",
        "    print(key, c[key])"
      ],
      "metadata": {
        "colab": {
          "base_uri": "https://localhost:8080/"
        },
        "id": "75rX8U6D4i_T",
        "outputId": "c645cbee-1974-4916-e7ed-8c7c8b41f583"
      },
      "execution_count": null,
      "outputs": [
        {
          "output_type": "stream",
          "name": "stdout",
          "text": [
            "name Alice\n",
            "age 25\n",
            "height 170\n"
          ]
        }
      ]
    },
    {
      "cell_type": "markdown",
      "source": [
        "### Sets\n",
        "Sets are unordered collections of unique elements. They are mutable but do not allow duplicate elements."
      ],
      "metadata": {
        "id": "IdQoSGlI9E7L"
      }
    },
    {
      "cell_type": "code",
      "source": [
        "# Example with a set\n",
        "my_set = {1, 2, 3}\n",
        "my_set.add(4)\n",
        "print(my_set)"
      ],
      "metadata": {
        "colab": {
          "base_uri": "https://localhost:8080/"
        },
        "id": "VTfaoqxI9J03",
        "outputId": "4d205c15-6835-4715-fd25-b235785579e1"
      },
      "execution_count": null,
      "outputs": [
        {
          "output_type": "stream",
          "name": "stdout",
          "text": [
            "{1, 2, 3, 4}\n"
          ]
        }
      ]
    },
    {
      "cell_type": "code",
      "source": [
        "a = {1,2,3,4}\n",
        "b = {2,3, 5}"
      ],
      "metadata": {
        "id": "Nr269pao48Q5"
      },
      "execution_count": null,
      "outputs": []
    },
    {
      "cell_type": "code",
      "source": [
        "a |b"
      ],
      "metadata": {
        "colab": {
          "base_uri": "https://localhost:8080/"
        },
        "id": "AXgQnWY_5Yq7",
        "outputId": "9e07c0b5-cf01-499b-a9f4-1a51dd70b051"
      },
      "execution_count": null,
      "outputs": [
        {
          "output_type": "execute_result",
          "data": {
            "text/plain": [
              "{1, 2, 3, 4, 5}"
            ]
          },
          "metadata": {},
          "execution_count": 90
        }
      ]
    },
    {
      "cell_type": "code",
      "source": [
        "a & b"
      ],
      "metadata": {
        "colab": {
          "base_uri": "https://localhost:8080/"
        },
        "id": "w_rbBJgc5YUf",
        "outputId": "15773311-0e91-4a48-e2cf-8aad453999b9"
      },
      "execution_count": null,
      "outputs": [
        {
          "output_type": "execute_result",
          "data": {
            "text/plain": [
              "{2, 3}"
            ]
          },
          "metadata": {},
          "execution_count": 91
        }
      ]
    },
    {
      "cell_type": "code",
      "source": [
        "a.union(b)"
      ],
      "metadata": {
        "colab": {
          "base_uri": "https://localhost:8080/"
        },
        "id": "PJZ5DG6B4_gM",
        "outputId": "b071199a-3291-42b8-a764-f19af8b65d6c"
      },
      "execution_count": null,
      "outputs": [
        {
          "output_type": "execute_result",
          "data": {
            "text/plain": [
              "{1, 2, 3, 4}"
            ]
          },
          "metadata": {},
          "execution_count": 86
        }
      ]
    },
    {
      "cell_type": "markdown",
      "source": [
        "## Functions\n",
        "Functions in Python are blocks of organized, reusable code that perform a specific task. They help in modularizing code for better readability, reusability, and maintainability."
      ],
      "metadata": {
        "id": "bQzy7rvSfNkN"
      }
    },
    {
      "cell_type": "markdown",
      "source": [
        "### Defining a Function\n",
        "In Python, you define a function using the def keyword, followed by the function name and parentheses ( ). Any parameters (inputs) are placed inside the parentheses."
      ],
      "metadata": {
        "id": "FKEDbnvk-Nwd"
      }
    },
    {
      "cell_type": "code",
      "source": [
        "def greet(name):\n",
        "    return f\"Hello, {name}!\""
      ],
      "metadata": {
        "id": "kRzDZOJOfPf0"
      },
      "execution_count": null,
      "outputs": []
    },
    {
      "cell_type": "markdown",
      "source": [
        "### Calling a Function\n",
        "To execute a function and run its code block, you \"call\" the function by using its name followed by parentheses ( ). You can pass arguments (values) into the function's parameters.\n",
        "\n"
      ],
      "metadata": {
        "id": "N1bK1KH--Upo"
      }
    },
    {
      "cell_type": "code",
      "source": [
        "greet(\"Alice\")"
      ],
      "metadata": {
        "colab": {
          "base_uri": "https://localhost:8080/",
          "height": 35
        },
        "id": "Ab4GBwSC-Z5X",
        "outputId": "db4ea8b5-2094-4a5c-9231-09040075442e"
      },
      "execution_count": null,
      "outputs": [
        {
          "output_type": "execute_result",
          "data": {
            "text/plain": [
              "'Hello, Alice!'"
            ],
            "application/vnd.google.colaboratory.intrinsic+json": {
              "type": "string"
            }
          },
          "metadata": {},
          "execution_count": 137
        }
      ]
    },
    {
      "cell_type": "markdown",
      "source": [
        "### Function Components\n",
        "- Function Name: Unique identifier for calling the function.\n",
        "- Parameters: Inputs passed to the function (optional).\n",
        "- Docstring: Optional documentation describing the - function's purpose.\n",
        "- Body: Block of code executed when the function is called.\n",
        "- Return Statement: Optional statement to return a value from the function.\n"
      ],
      "metadata": {
        "id": "0w-_27Sr-52O"
      }
    },
    {
      "cell_type": "code",
      "source": [
        "def add_numbers(a, b):\n",
        "    \"\"\"Function to add two numbers.\"\"\"\n",
        "    return a + b\n",
        "\n",
        "result = add_numbers(3, 5)\n",
        "print(\"Result:\", result)"
      ],
      "metadata": {
        "colab": {
          "base_uri": "https://localhost:8080/"
        },
        "id": "ht_yhcQVfPyt",
        "outputId": "8db6f357-3fa2-4421-aebe-2ad35d3646d2"
      },
      "execution_count": null,
      "outputs": [
        {
          "output_type": "stream",
          "name": "stdout",
          "text": [
            "Result: 8\n"
          ]
        }
      ]
    },
    {
      "cell_type": "markdown",
      "source": [
        "## Lambda functions"
      ],
      "metadata": {
        "id": "YK4r-NSk90Ri"
      }
    },
    {
      "cell_type": "code",
      "source": [
        "increment = lambda x: x + 1"
      ],
      "metadata": {
        "id": "uG2uHA7992Ng"
      },
      "execution_count": null,
      "outputs": []
    },
    {
      "cell_type": "code",
      "source": [
        "increment(5)"
      ],
      "metadata": {
        "colab": {
          "base_uri": "https://localhost:8080/"
        },
        "id": "bN0srm7r971G",
        "outputId": "9d4daf4d-5813-41d8-e440-a846afc9be9e"
      },
      "execution_count": null,
      "outputs": [
        {
          "output_type": "execute_result",
          "data": {
            "text/plain": [
              "6"
            ]
          },
          "metadata": {},
          "execution_count": 21
        }
      ]
    },
    {
      "cell_type": "code",
      "source": [
        "expression = lambda x,y : x*y+x+y+1/y"
      ],
      "metadata": {
        "id": "I7_AH8p09-q3"
      },
      "execution_count": null,
      "outputs": []
    },
    {
      "cell_type": "code",
      "source": [
        "expression(2,3)"
      ],
      "metadata": {
        "colab": {
          "base_uri": "https://localhost:8080/"
        },
        "id": "mFLQMUi8-EmU",
        "outputId": "39d4772e-ad93-4bff-84d4-a82276e24723"
      },
      "execution_count": null,
      "outputs": [
        {
          "output_type": "execute_result",
          "data": {
            "text/plain": [
              "11.333333333333334"
            ]
          },
          "metadata": {},
          "execution_count": 23
        }
      ]
    },
    {
      "cell_type": "markdown",
      "source": [
        "## Error Handeling"
      ],
      "metadata": {
        "id": "93L0gIfc-omf"
      }
    },
    {
      "cell_type": "code",
      "source": [
        "result = 10 / 0"
      ],
      "metadata": {
        "colab": {
          "base_uri": "https://localhost:8080/",
          "height": 144
        },
        "id": "hXp7rwvP7LSf",
        "outputId": "c173fda6-3bbe-4d49-b36d-e1d6844077a1"
      },
      "execution_count": null,
      "outputs": [
        {
          "output_type": "error",
          "ename": "ZeroDivisionError",
          "evalue": "division by zero",
          "traceback": [
            "\u001b[0;31m---------------------------------------------------------------------------\u001b[0m",
            "\u001b[0;31mZeroDivisionError\u001b[0m                         Traceback (most recent call last)",
            "\u001b[0;32m<ipython-input-92-edcfe5e80815>\u001b[0m in \u001b[0;36m<cell line: 1>\u001b[0;34m()\u001b[0m\n\u001b[0;32m----> 1\u001b[0;31m \u001b[0mresult\u001b[0m \u001b[0;34m=\u001b[0m \u001b[0;36m10\u001b[0m \u001b[0;34m/\u001b[0m \u001b[0;36m0\u001b[0m\u001b[0;34m\u001b[0m\u001b[0;34m\u001b[0m\u001b[0m\n\u001b[0m",
            "\u001b[0;31mZeroDivisionError\u001b[0m: division by zero"
          ]
        }
      ]
    },
    {
      "cell_type": "code",
      "source": [
        "try:\n",
        "    result = 10 / 0\n",
        "except ZeroDivisionError:\n",
        "    print(\"Error: Division by zero is not allowed.\")\n",
        "finally:\n",
        "    print(\"Execution completed.\")\n"
      ],
      "metadata": {
        "colab": {
          "base_uri": "https://localhost:8080/"
        },
        "id": "tDwLkfbL-jSU",
        "outputId": "e3e5022b-07f1-4acc-f3ef-9f0f9b26f249"
      },
      "execution_count": null,
      "outputs": [
        {
          "output_type": "stream",
          "name": "stdout",
          "text": [
            "Error: Division by zero is not allowed.\n",
            "Execution completed.\n"
          ]
        }
      ]
    },
    {
      "cell_type": "code",
      "source": [
        "try:\n",
        "    with open(\"hello.txt\", \"r\") as file:\n",
        "        content = file.read()\n",
        "        a = 1/0\n",
        "except Exception as e:\n",
        "    print(f\"Error {e}\")\n",
        "    print(str(e))"
      ],
      "metadata": {
        "colab": {
          "base_uri": "https://localhost:8080/"
        },
        "id": "3GCpQR-8-uh6",
        "outputId": "2b839cbf-4e0d-44b4-e44d-34324ddd034c"
      },
      "execution_count": null,
      "outputs": [
        {
          "output_type": "stream",
          "name": "stdout",
          "text": [
            "Error division by zero\n",
            "division by zero\n"
          ]
        }
      ]
    },
    {
      "cell_type": "markdown",
      "source": [
        "# https://notepad.pw/mrec"
      ],
      "metadata": {
        "id": "jHtTIvB48aK8"
      }
    },
    {
      "cell_type": "markdown",
      "source": [
        "# Advance concepts"
      ],
      "metadata": {
        "id": "bm8kG0Jc_bXP"
      }
    },
    {
      "cell_type": "markdown",
      "source": [
        "## Object Oriented Programming\n",
        "\n",
        "Object-Oriented Programming (OOP) is a paradigm where programs are organized around objects and data, rather than functions and logic. Key concepts include:\n",
        "\n",
        "Classes and Objects\n",
        "- Class: Blueprint for creating objects. Contains attributes (data) and methods (functions).\n",
        "- Object: Instance of a class. Each object has its own attributes and methods."
      ],
      "metadata": {
        "id": "MhdRsK0OBdJb"
      }
    },
    {
      "cell_type": "code",
      "source": [
        "# Example: Creating a class\n",
        "class Person:\n",
        "    def __init__(self, name, age): # constructor\n",
        "        self.name = name # attributes\n",
        "        self.age = age\n",
        "\n",
        "    def greet(self):\n",
        "        print(f\"Hello, my name is {self.name} and I am {self.age} years old.\")"
      ],
      "metadata": {
        "id": "S9ncyl3ZBpia"
      },
      "execution_count": null,
      "outputs": []
    },
    {
      "cell_type": "code",
      "source": [
        "# Creating objects (instances)\n",
        "person1 = Person(\"Alice\", 30)\n",
        "person2 = Person(\"Bob\", 25)"
      ],
      "metadata": {
        "id": "j05wleRABwhj"
      },
      "execution_count": null,
      "outputs": []
    },
    {
      "cell_type": "code",
      "source": [
        "# Accessing attributes and methods\n",
        "print(person1.name)\n",
        "person2.greet()"
      ],
      "metadata": {
        "colab": {
          "base_uri": "https://localhost:8080/"
        },
        "id": "yvBMpdM8BvcB",
        "outputId": "ece4becc-cf29-483d-ab00-a2a64790dc66"
      },
      "execution_count": null,
      "outputs": [
        {
          "output_type": "stream",
          "name": "stdout",
          "text": [
            "Alice\n",
            "Hello, my name is Bob and I am 25 years old.\n"
          ]
        }
      ]
    },
    {
      "cell_type": "markdown",
      "source": [
        "### Encapsulation, Inheritance, Polymorphism\n",
        "- Encapsulation: Bundling of data (attributes) and methods that operate on the data within a single unit (class).\n",
        "- Inheritance: Creating new classes by extending existing ones. Subclasses inherit attributes and methods from their parent class (superclass).\n",
        "- Polymorphism: Ability to use a common interface for multiple data types. Methods can be overridden in subclasses."
      ],
      "metadata": {
        "id": "BFYzMiAlC97M"
      }
    },
    {
      "cell_type": "markdown",
      "source": [
        "### Inheritance\n",
        "\n",
        " A mechanism where a new class inherits properties and behavior (methods) from an existing class.\n",
        "\n",
        "![inheritance](https://media.geeksforgeeks.org/wp-content/uploads/inheritance2.png)"
      ],
      "metadata": {
        "id": "Q3JmyixFIO-u"
      }
    },
    {
      "cell_type": "code",
      "source": [
        "class Animal:\n",
        "    def __init__(self, name, species):\n",
        "        self.name = name\n",
        "        self.species = species\n",
        "\n",
        "    def make_sound(self):\n",
        "        print(\"Some generic sound\")\n",
        "\n",
        "class Dog(Animal):\n",
        "    def make_sound(self):\n",
        "        print(\"Woof!\")\n",
        "\n",
        "# Create an object of Dog class\n",
        "dog1 = Dog(\"Buddy\", \"Canine\")\n",
        "dog1.make_sound()\n"
      ],
      "metadata": {
        "colab": {
          "base_uri": "https://localhost:8080/"
        },
        "id": "m4puqiODDKN5",
        "outputId": "86164e8a-c396-415f-d6af-9560b1adfaa3"
      },
      "execution_count": null,
      "outputs": [
        {
          "output_type": "stream",
          "name": "stdout",
          "text": [
            "Woof!\n"
          ]
        }
      ]
    },
    {
      "cell_type": "markdown",
      "source": [
        "### Encapsulation\n",
        "\n",
        "Bundling of data (attributes) and methods that operate on the data within a single unit (class).\n",
        "\n",
        "![link text](https://www.crio.do/blog/content/images/2022/01/What-is-Encapsulation.png)"
      ],
      "metadata": {
        "id": "tzKqNo2rI-ve"
      }
    },
    {
      "cell_type": "code",
      "source": [
        "class Person:\n",
        "    def __init__(self, name, age):\n",
        "        self.name = name\n",
        "        self.__age = age  # private attribute\n",
        "\n",
        "    def display_age(self):\n",
        "        print(f\"{self.name} is {self.__age} years old\")\n",
        "\n",
        "    def __secret(self):\n",
        "        print(f\"{self.name} hates apple\")\n",
        "\n",
        "person = Person(\"Alice\", 30)\n",
        "person.display_age()"
      ],
      "metadata": {
        "colab": {
          "base_uri": "https://localhost:8080/"
        },
        "id": "WVgQ-5nHJARr",
        "outputId": "52aa106a-4948-4d3a-d7bc-e4ddc4d7ece7"
      },
      "execution_count": null,
      "outputs": [
        {
          "output_type": "stream",
          "name": "stdout",
          "text": [
            "Alice is 30 years old\n"
          ]
        }
      ]
    },
    {
      "cell_type": "code",
      "source": [
        "person.__secret()"
      ],
      "metadata": {
        "colab": {
          "base_uri": "https://localhost:8080/",
          "height": 144
        },
        "id": "sycG7rTXMaYk",
        "outputId": "dc644905-d0c3-45cd-a518-271739bcb0fa"
      },
      "execution_count": null,
      "outputs": [
        {
          "output_type": "error",
          "ename": "AttributeError",
          "evalue": "'Person' object has no attribute '__secret'",
          "traceback": [
            "\u001b[0;31m---------------------------------------------------------------------------\u001b[0m",
            "\u001b[0;31mAttributeError\u001b[0m                            Traceback (most recent call last)",
            "\u001b[0;32m<ipython-input-12-e7a73c8d7baa>\u001b[0m in \u001b[0;36m<cell line: 1>\u001b[0;34m()\u001b[0m\n\u001b[0;32m----> 1\u001b[0;31m \u001b[0mperson\u001b[0m\u001b[0;34m.\u001b[0m\u001b[0m__secret\u001b[0m\u001b[0;34m(\u001b[0m\u001b[0;34m)\u001b[0m\u001b[0;34m\u001b[0m\u001b[0;34m\u001b[0m\u001b[0m\n\u001b[0m",
            "\u001b[0;31mAttributeError\u001b[0m: 'Person' object has no attribute '__secret'"
          ]
        }
      ]
    },
    {
      "cell_type": "code",
      "source": [
        "person.__age"
      ],
      "metadata": {
        "colab": {
          "base_uri": "https://localhost:8080/",
          "height": 144
        },
        "id": "prwIcgM3MMia",
        "outputId": "260ea70f-d829-4c45-8adf-30da1c89f1f5"
      },
      "execution_count": null,
      "outputs": [
        {
          "output_type": "error",
          "ename": "AttributeError",
          "evalue": "'Person' object has no attribute '__age'",
          "traceback": [
            "\u001b[0;31m---------------------------------------------------------------------------\u001b[0m",
            "\u001b[0;31mAttributeError\u001b[0m                            Traceback (most recent call last)",
            "\u001b[0;32m<ipython-input-11-8cd4dd7c9fb8>\u001b[0m in \u001b[0;36m<cell line: 1>\u001b[0;34m()\u001b[0m\n\u001b[0;32m----> 1\u001b[0;31m \u001b[0mperson\u001b[0m\u001b[0;34m.\u001b[0m\u001b[0m__age\u001b[0m\u001b[0;34m\u001b[0m\u001b[0;34m\u001b[0m\u001b[0m\n\u001b[0m",
            "\u001b[0;31mAttributeError\u001b[0m: 'Person' object has no attribute '__age'"
          ]
        }
      ]
    },
    {
      "cell_type": "markdown",
      "source": [
        "### Polymorphism\n",
        "\n",
        "\n",
        "Ability to use a common interface for multiple data types. Methods can be overridden in subclasses.\n",
        "\n",
        "\n",
        "![polymorphism](https://media.geeksforgeeks.org/wp-content/uploads/20200703160531/Polymorphism-in-CPP.png)"
      ],
      "metadata": {
        "id": "kdUw564iIifY"
      }
    },
    {
      "cell_type": "code",
      "source": [
        "class Bird:\n",
        "    def __init__(self, can_fly):\n",
        "        self.can_fly = can_fly\n",
        "\n",
        "    def fly(self):\n",
        "        print(\"Flying in the sky\")\n",
        "\n",
        "class Penguin(Bird):\n",
        "    def __init__(self, can_fly):\n",
        "        super().__init__(can_fly)\n",
        "\n",
        "    def fly(self):\n",
        "        print(\"Cannot fly, swims instead\")\n",
        "\n",
        "my_bird = Bird(can_fly=True)\n",
        "my_penguin = Penguin(can_fly=False)\n",
        "my_bird.fly()\n",
        "my_penguin.fly()"
      ],
      "metadata": {
        "colab": {
          "base_uri": "https://localhost:8080/"
        },
        "id": "rTorf5oRIjzy",
        "outputId": "dd1c8cf8-ac5e-4695-94c4-6bb99790f1c6"
      },
      "execution_count": null,
      "outputs": [
        {
          "output_type": "stream",
          "name": "stdout",
          "text": [
            "Flying in the sky\n",
            "Cannot fly, swims instead\n"
          ]
        }
      ]
    },
    {
      "cell_type": "code",
      "source": [
        "my_bird.can_fly"
      ],
      "metadata": {
        "colab": {
          "base_uri": "https://localhost:8080/"
        },
        "id": "IUHrsYwGOLLo",
        "outputId": "0e88c87d-d728-4e53-ee3f-2e18543e8227"
      },
      "execution_count": null,
      "outputs": [
        {
          "output_type": "execute_result",
          "data": {
            "text/plain": [
              "True"
            ]
          },
          "metadata": {},
          "execution_count": 20
        }
      ]
    },
    {
      "cell_type": "code",
      "source": [
        "my_penguin.can_fly"
      ],
      "metadata": {
        "colab": {
          "base_uri": "https://localhost:8080/"
        },
        "id": "IJ32wf8dNldC",
        "outputId": "98bd58f1-1ff5-47e3-bd4a-1dde13e8a837"
      },
      "execution_count": null,
      "outputs": [
        {
          "output_type": "execute_result",
          "data": {
            "text/plain": [
              "False"
            ]
          },
          "metadata": {},
          "execution_count": 21
        }
      ]
    },
    {
      "cell_type": "markdown",
      "source": [
        "## Exercise: Creating Classes and Objects\n",
        "\n",
        "\n",
        "### Task:\n",
        "\n",
        "- Create a class called Student.\n",
        "- Add attributes name, age, and grade to the class.\n",
        "- Add a method called display_info that prints the student's details.\n",
        "- Create an object of the Student class and call the display_info method."
      ],
      "metadata": {
        "id": "NdpxPFATKBcw"
      }
    },
    {
      "cell_type": "code",
      "source": [
        "# Code here\n"
      ],
      "metadata": {
        "id": "MDTj3gFiKI8p"
      },
      "execution_count": null,
      "outputs": []
    },
    {
      "cell_type": "markdown",
      "source": [
        "### Benefits of OOP\n",
        "- Modularity: Encourages modular design and reusable code.\n",
        "- Code Reuse: Inheritance and polymorphism promote code reuse and maintainability.\n",
        "- Abstraction: Focus on essential attributes and behaviors, hiding complex implementation details.\n"
      ],
      "metadata": {
        "id": "37JpY0x7Datn"
      }
    },
    {
      "cell_type": "code",
      "source": [],
      "metadata": {
        "id": "Bh9OvE99DYe5"
      },
      "execution_count": null,
      "outputs": []
    },
    {
      "cell_type": "markdown",
      "source": [
        "## Modules, Packages and Libraries"
      ],
      "metadata": {
        "id": "st5nXwpJfYkM"
      }
    },
    {
      "cell_type": "markdown",
      "source": [
        "- Module: A single Python file (.py) containing executable code, functions, and global variables.\n",
        "- Package: A directory in Python that consists of modules and sub-packages, indicated by an __init__.py file. It serves as a namespace to organize modules.\n",
        "- Library: A collection of related packages and/or modules that provide reusable functionality for various tasks. They are imported into your code to access pre-written functions and methods."
      ],
      "metadata": {
        "id": "SEED2RCQ16iO"
      }
    },
    {
      "cell_type": "markdown",
      "source": [
        "## Modules"
      ],
      "metadata": {
        "id": "7NFU_dbjQWNv"
      }
    },
    {
      "cell_type": "markdown",
      "source": [
        "### Creating and Using Modules\n",
        "\n",
        "- Creating a Module:\n",
        "\n",
        "    Save Python code in a `.py` file. This file name serves as the module name.\n",
        "    Example: `my_module.py`\n",
        "\n",
        "- Using a Module:  \n",
        "    Import the module using the import keyword.  \n",
        "    Access functions, classes, or variables defined in the module using dot notation (module_name.item_name).\n",
        "\n",
        "- Syntax:\n",
        "    import `module` as `alias` (optional alias)"
      ],
      "metadata": {
        "id": "4NDGkCRqAu3O"
      }
    },
    {
      "cell_type": "code",
      "source": [
        "import math\n",
        "\n",
        "print(f\"Pi: {math.pi}\")\n",
        "print(f\"Square root of 16: {math.sqrt(16)}\")"
      ],
      "metadata": {
        "colab": {
          "base_uri": "https://localhost:8080/"
        },
        "id": "pjHQYR4bfUHN",
        "outputId": "5399df88-1ec5-4cea-fa45-d26369c44006"
      },
      "execution_count": null,
      "outputs": [
        {
          "output_type": "stream",
          "name": "stdout",
          "text": [
            "Pi: 3.141592653589793\n",
            "Square root of 16: 4.0\n"
          ]
        }
      ]
    },
    {
      "cell_type": "code",
      "source": [
        "import requests as r\n",
        "\n",
        "response = r.get(\"https://www.google.com\")\n",
        "print(response.status_code)"
      ],
      "metadata": {
        "colab": {
          "base_uri": "https://localhost:8080/"
        },
        "id": "Nj2SNXv-OhlD",
        "outputId": "e0bb02ef-ea33-455f-c6ed-0f6d72e11240"
      },
      "execution_count": null,
      "outputs": [
        {
          "output_type": "stream",
          "name": "stdout",
          "text": [
            "200\n"
          ]
        }
      ]
    },
    {
      "cell_type": "markdown",
      "source": [
        "## Libraries\n",
        "\n",
        "A library is a collection of modules. It can consist of multiple modules packaged together to provide various functionalities. Examples: NumPy, Pandas, Matplotlib,\n",
        "\n",
        "- NumPy: For numerical operations, especially with arrays.\n",
        "- Pandas: For data manipulation and analysis.\n",
        "- Matplotlib: For plotting and visualization.\n",
        "- Scikit-learn: For machine learning.\n"
      ],
      "metadata": {
        "id": "raXZhs7nPEPp"
      }
    },
    {
      "cell_type": "code",
      "source": [
        "import numpy as np"
      ],
      "metadata": {
        "id": "gwd5CzNxPG7B"
      },
      "execution_count": null,
      "outputs": []
    },
    {
      "cell_type": "code",
      "source": [
        "random_arr = np.random.rand(5)\n",
        "print(f\"Random array: {random_arr}\")"
      ],
      "metadata": {
        "colab": {
          "base_uri": "https://localhost:8080/"
        },
        "id": "LRra1UgUPYZv",
        "outputId": "d0ba3e00-bb5c-4970-d19a-fcdfa6c70b65"
      },
      "execution_count": null,
      "outputs": [
        {
          "output_type": "stream",
          "name": "stdout",
          "text": [
            "Random array: [0.9861545  0.54113902 0.61048617 0.83543331 0.12214414]\n"
          ]
        }
      ]
    },
    {
      "cell_type": "code",
      "source": [
        "import pandas as pd\n",
        "\n",
        "# Create a DataFrame\n",
        "data = {'Name': ['Alice', 'Bob', 'Charlie'], 'Age': [25, 30, 35]}\n",
        "df = pd.DataFrame(data)\n",
        "print(\"DataFrame:\")\n",
        "print(df)\n",
        "\n",
        "# Calculate the mean age\n",
        "mean_age = df['Age'].mean()\n",
        "print(f\"Mean age: {mean_age}\")"
      ],
      "metadata": {
        "colab": {
          "base_uri": "https://localhost:8080/"
        },
        "id": "it9dci2fPmZ1",
        "outputId": "a6b53d95-87db-4728-e8c9-8e3d6684dbf7"
      },
      "execution_count": null,
      "outputs": [
        {
          "output_type": "stream",
          "name": "stdout",
          "text": [
            "DataFrame:\n",
            "      Name  Age\n",
            "0    Alice   25\n",
            "1      Bob   30\n",
            "2  Charlie   35\n",
            "Mean age: 30.0\n"
          ]
        }
      ]
    },
    {
      "cell_type": "markdown",
      "source": [
        "## Resources:\n",
        "\n",
        "Pandas Documentation: https://pandas.pydata.org/pandas-docs/stable/index.html\n",
        "\n",
        "NumPy Documentation: https://numpy.org/doc/stable/\n",
        "\n",
        "Scikit-Learn Documentation: https://scikit-learn.org/stable/documentation.html\n",
        "\n",
        "Matplotlib Documentation: https://matplotlib.org/stable/contents.html\n",
        "\n",
        "\n",
        "\n",
        "\n",
        "\n"
      ],
      "metadata": {
        "id": "dcDZFGkfP4HK"
      }
    },
    {
      "cell_type": "code",
      "source": [],
      "metadata": {
        "id": "GP0NuEVKQagO"
      },
      "execution_count": null,
      "outputs": []
    }
  ]
}